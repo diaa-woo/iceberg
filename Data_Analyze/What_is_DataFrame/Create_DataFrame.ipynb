{
 "cells": [
  {
   "cell_type": "markdown",
   "id": "6491e0a5-b6ef-4271-b3e9-5246e36408e3",
   "metadata": {},
   "source": [
    "# DataFrame 만들기\n",
    "\n",
    "데이터 프레임은 데이터를 직접 입력해서 만들 수도 있고, 외부 데이터를 가져와서 만들 수도 있다. "
   ]
  },
  {
   "cell_type": "markdown",
   "id": "ed046f75-16f9-49c4-910f-d0277e525e63",
   "metadata": {},
   "source": [
    "## 데이터 입력해 데이터 프레임 만들기\n",
    "학생 4명이 영어 시험과 수학 시험을 봤다고 가정하고 다음과 같은 데이터 프레임을 만들어보자.\n",
    "\n",
    "|이름|영어 점수|수학 점수|\n",
    "|---|---|---|\n",
    "|김지훈|90|50|\n",
    "|이유진|80|60|\n",
    "|박동현|60|100|\n",
    "|김민지|70|20|"
   ]
  },
  {
   "cell_type": "markdown",
   "id": "08333c87-a356-4e5f-ac59-0c0043763f41",
   "metadata": {},
   "source": [
    "### pandas 패키지 로드하기\n",
    "`pandas`는 데이터를 가공할 때 사용하는 패키지이다."
   ]
  },
  {
   "cell_type": "code",
   "execution_count": 1,
   "id": "db1f61e0-0176-4e03-a088-7f0630ef6038",
   "metadata": {
    "tags": []
   },
   "outputs": [],
   "source": [
    "import pandas as pd"
   ]
  },
  {
   "cell_type": "markdown",
   "id": "5ca2fbe3-513c-416e-89b2-afdfc63ff01a",
   "metadata": {},
   "source": [
    "### 데이터 프레임 만들기\n",
    "\n",
    "데이터 프레임을 만들 때는 `pandas`의 `DataFrame()`을 이용한다. 이 함수 안에 중괄호(`{}`)를 입력한 다음 변수명, 콜론(`:`), 변수에 넣을 값을 차례로 입력한다. 변수명은 따옴표를 이용해 문자 형태로 입력하고, 변수에 넣을 값은 (`[]`) 안에 입력한다."
   ]
  },
  {
   "cell_type": "code",
   "execution_count": 3,
   "id": "69ae1f94-c1b5-4b3b-a124-c12dcff206eb",
   "metadata": {
    "tags": []
   },
   "outputs": [
    {
     "data": {
      "text/html": [
       "<div>\n",
       "<style scoped>\n",
       "    .dataframe tbody tr th:only-of-type {\n",
       "        vertical-align: middle;\n",
       "    }\n",
       "\n",
       "    .dataframe tbody tr th {\n",
       "        vertical-align: top;\n",
       "    }\n",
       "\n",
       "    .dataframe thead th {\n",
       "        text-align: right;\n",
       "    }\n",
       "</style>\n",
       "<table border=\"1\" class=\"dataframe\">\n",
       "  <thead>\n",
       "    <tr style=\"text-align: right;\">\n",
       "      <th></th>\n",
       "      <th>name</th>\n",
       "      <th>english</th>\n",
       "      <th>math</th>\n",
       "    </tr>\n",
       "  </thead>\n",
       "  <tbody>\n",
       "    <tr>\n",
       "      <th>0</th>\n",
       "      <td>김지훈</td>\n",
       "      <td>90</td>\n",
       "      <td>50</td>\n",
       "    </tr>\n",
       "    <tr>\n",
       "      <th>1</th>\n",
       "      <td>이유진</td>\n",
       "      <td>80</td>\n",
       "      <td>60</td>\n",
       "    </tr>\n",
       "    <tr>\n",
       "      <th>2</th>\n",
       "      <td>박동현</td>\n",
       "      <td>60</td>\n",
       "      <td>100</td>\n",
       "    </tr>\n",
       "    <tr>\n",
       "      <th>3</th>\n",
       "      <td>김민지</td>\n",
       "      <td>70</td>\n",
       "      <td>20</td>\n",
       "    </tr>\n",
       "  </tbody>\n",
       "</table>\n",
       "</div>"
      ],
      "text/plain": [
       "  name  english  math\n",
       "0  김지훈       90    50\n",
       "1  이유진       80    60\n",
       "2  박동현       60   100\n",
       "3  김민지       70    20"
      ]
     },
     "execution_count": 3,
     "metadata": {},
     "output_type": "execute_result"
    }
   ],
   "source": [
    "df = pd.DataFrame({'name'    : ['김지훈', '이유진', '박동현', '김민지'],\n",
    "                   'english' : [90, 80, 60, 70],\n",
    "                   'math'    : [50, 60, 100, 20]})\n",
    "df"
   ]
  },
  {
   "cell_type": "markdown",
   "id": "e7ccc1cc-03b0-442d-9912-92e104e09c8e",
   "metadata": {},
   "source": [
    "## 데이터 프레임으로 분석하기\n",
    "\n",
    "데이터 프레임을 완성했으니 이걸로 데이터를 분석해보자. `sum()`을 이용해 전체 학생의 영어, 수학 점수 합계를 구할 수 있다."
   ]
  },
  {
   "cell_type": "markdown",
   "id": "05a7b9d3-e28d-48a8-946b-094860a8a163",
   "metadata": {},
   "source": [
    "### 특정 변수의 값 추출\n",
    "\n",
    "데이터 프레임에서 특정 변수의 값을 추출하는 방법을 알아보자. 데이터 프레임 이름 뒤에 `[]`를 입력한 다음 문자 형태로 변수명을 입력하면 된다. 다음 코드를 실행하면 `df`에서 영어 점수만 추출한다."
   ]
  },
  {
   "cell_type": "code",
   "execution_count": 4,
   "id": "f5a11f06-18fd-4389-8166-e72ebe896c6f",
   "metadata": {
    "tags": []
   },
   "outputs": [
    {
     "data": {
      "text/plain": [
       "0    90\n",
       "1    80\n",
       "2    60\n",
       "3    70\n",
       "Name: english, dtype: int64"
      ]
     },
     "execution_count": 4,
     "metadata": {},
     "output_type": "execute_result"
    }
   ],
   "source": [
    "df['english']"
   ]
  },
  {
   "cell_type": "markdown",
   "id": "8bb382b7-7e2e-422e-9498-faf7c20ae940",
   "metadata": {},
   "source": [
    "### 변수의 값으로 합계 구하기\n",
    "\n",
    "`df`에서 영어 점수를 추출하는 코드를 `sum()`에 입력하면 영어 점수 합계를 출력한다."
   ]
  },
  {
   "cell_type": "code",
   "execution_count": 6,
   "id": "4bfa8627-8184-4acc-9f78-930bd6b21a58",
   "metadata": {
    "tags": []
   },
   "outputs": [
    {
     "data": {
      "text/plain": [
       "300"
      ]
     },
     "execution_count": 6,
     "metadata": {},
     "output_type": "execute_result"
    }
   ],
   "source": [
    "sum(df['english'])"
   ]
  },
  {
   "cell_type": "markdown",
   "id": "2d769c62-bfb9-43f1-b288-9dfffce51d11",
   "metadata": {},
   "source": [
    "같은 방식으로 `english` 대신 `math`를 입력해 수학 점수 합계를 구한다."
   ]
  },
  {
   "cell_type": "code",
   "execution_count": 7,
   "id": "00c3f4ea-88c3-4bcc-b940-6c5bb928848e",
   "metadata": {
    "tags": []
   },
   "outputs": [
    {
     "data": {
      "text/plain": [
       "230"
      ]
     },
     "execution_count": 7,
     "metadata": {},
     "output_type": "execute_result"
    }
   ],
   "source": [
    "sum(df['math'])"
   ]
  },
  {
   "cell_type": "markdown",
   "id": "68f2bb46-977e-4165-bcd3-d47998065771",
   "metadata": {},
   "source": [
    "### 변수의 값으로 평균 구하기\n",
    "\n",
    "이번에는 영어, 수학 점수의 평균을 구해보자. 앞에서 구한 합계를 학생 수로 나누면 된다."
   ]
  },
  {
   "cell_type": "code",
   "execution_count": 8,
   "id": "80f67d12-dc09-45f7-851e-c1dc4c8e45fa",
   "metadata": {
    "tags": []
   },
   "outputs": [
    {
     "data": {
      "text/plain": [
       "75.0"
      ]
     },
     "execution_count": 8,
     "metadata": {},
     "output_type": "execute_result"
    }
   ],
   "source": [
    "sum(df['english']) / 4"
   ]
  },
  {
   "cell_type": "code",
   "execution_count": 9,
   "id": "0ba345b0-5feb-483b-8b42-0863e889919b",
   "metadata": {
    "tags": []
   },
   "outputs": [
    {
     "data": {
      "text/plain": [
       "57.5"
      ]
     },
     "execution_count": 9,
     "metadata": {},
     "output_type": "execute_result"
    }
   ],
   "source": [
    "sum(df['math']) / 4"
   ]
  },
  {
   "cell_type": "markdown",
   "id": "b58c10f8-560f-4451-9f43-f83a7b1d440a",
   "metadata": {},
   "source": [
    "## 연습 문제\n",
    "다음 표의 내용을 데이터 프레임으로 만들어 출력하라\n",
    "\n",
    "|제품|가격|판매량|\n",
    "|---|---|---|\n",
    "|사과|1800|24|\n",
    "|딸기|1500|38|\n",
    "|수박|3000|13|\n",
    "\n",
    "또한 만든 데이터 프레임을 이용해 과일의 가격 평균과 판매량 평균을 구하라"
   ]
  },
  {
   "cell_type": "code",
   "execution_count": 12,
   "id": "d8f3d2a8-5d29-4c99-95a6-6a0023e77489",
   "metadata": {
    "tags": []
   },
   "outputs": [
    {
     "data": {
      "text/html": [
       "<div>\n",
       "<style scoped>\n",
       "    .dataframe tbody tr th:only-of-type {\n",
       "        vertical-align: middle;\n",
       "    }\n",
       "\n",
       "    .dataframe tbody tr th {\n",
       "        vertical-align: top;\n",
       "    }\n",
       "\n",
       "    .dataframe thead th {\n",
       "        text-align: right;\n",
       "    }\n",
       "</style>\n",
       "<table border=\"1\" class=\"dataframe\">\n",
       "  <thead>\n",
       "    <tr style=\"text-align: right;\">\n",
       "      <th></th>\n",
       "      <th>제품</th>\n",
       "      <th>가격</th>\n",
       "      <th>판매량</th>\n",
       "    </tr>\n",
       "  </thead>\n",
       "  <tbody>\n",
       "    <tr>\n",
       "      <th>0</th>\n",
       "      <td>사과</td>\n",
       "      <td>1800</td>\n",
       "      <td>24</td>\n",
       "    </tr>\n",
       "    <tr>\n",
       "      <th>1</th>\n",
       "      <td>딸기</td>\n",
       "      <td>1500</td>\n",
       "      <td>38</td>\n",
       "    </tr>\n",
       "    <tr>\n",
       "      <th>2</th>\n",
       "      <td>수박</td>\n",
       "      <td>3000</td>\n",
       "      <td>13</td>\n",
       "    </tr>\n",
       "  </tbody>\n",
       "</table>\n",
       "</div>"
      ],
      "text/plain": [
       "   제품    가격  판매량\n",
       "0  사과  1800   24\n",
       "1  딸기  1500   38\n",
       "2  수박  3000   13"
      ]
     },
     "execution_count": 12,
     "metadata": {},
     "output_type": "execute_result"
    }
   ],
   "source": [
    "df_h = pd.DataFrame({'제품': ['사과', '딸기', '수박'],\n",
    "                     '가격': [1800, 1500, 3000],\n",
    "                     '판매량': [24,38,13]})\n",
    "df_h"
   ]
  },
  {
   "cell_type": "code",
   "execution_count": 13,
   "id": "6d067446-bee4-498c-880c-8728669d5836",
   "metadata": {
    "tags": []
   },
   "outputs": [
    {
     "data": {
      "text/plain": [
       "2100.0"
      ]
     },
     "execution_count": 13,
     "metadata": {},
     "output_type": "execute_result"
    }
   ],
   "source": [
    "sum(df_h['가격']) / 3   # 가격 평균"
   ]
  },
  {
   "cell_type": "code",
   "execution_count": 14,
   "id": "564f75bc-a90d-4157-9d33-db808ae71270",
   "metadata": {
    "tags": []
   },
   "outputs": [
    {
     "data": {
      "text/plain": [
       "25.0"
      ]
     },
     "execution_count": 14,
     "metadata": {},
     "output_type": "execute_result"
    }
   ],
   "source": [
    "sum(df_h['판매량']) / 3   # 판매량 평균"
   ]
  }
 ],
 "metadata": {
  "kernelspec": {
   "display_name": "Python 3 (ipykernel)",
   "language": "python",
   "name": "python3"
  },
  "language_info": {
   "codemirror_mode": {
    "name": "ipython",
    "version": 3
   },
   "file_extension": ".py",
   "mimetype": "text/x-python",
   "name": "python",
   "nbconvert_exporter": "python",
   "pygments_lexer": "ipython3",
   "version": "3.11.5"
  }
 },
 "nbformat": 4,
 "nbformat_minor": 5
}
