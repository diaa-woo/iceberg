{
 "cells": [
  {
   "cell_type": "markdown",
   "id": "6bb22465-7095-4855-9791-306c6102b054",
   "metadata": {},
   "source": [
    "# Python Basic\n",
    "\n",
    "책 **파이썬으로 배우는 머신러닝의 교과서** 내용을 넣은 내용입니다."
   ]
  },
  {
   "cell_type": "markdown",
   "id": "ba429e0a-2fd8-47e2-a8d4-fdbb0183c6ad",
   "metadata": {},
   "source": [
    "## 사칙 연산\n",
    "\n",
    "### 사칙 연산의 이용"
   ]
  },
  {
   "cell_type": "code",
   "execution_count": 1,
   "id": "c765a5c2-5923-4496-84bc-c903940d1e2b",
   "metadata": {},
   "outputs": [
    {
     "data": {
      "text/plain": [
       "3"
      ]
     },
     "execution_count": 1,
     "metadata": {},
     "output_type": "execute_result"
    }
   ],
   "source": [
    "1+2"
   ]
  },
  {
   "cell_type": "markdown",
   "id": "8be622ea-ee0c-47a1-8414-9a9a94987cec",
   "metadata": {},
   "source": [
    "### 제곱\n",
    "제곱은 **로 나타낸다."
   ]
  },
  {
   "cell_type": "code",
   "execution_count": 2,
   "id": "c7e3f008-0edc-4215-a337-80a955a6cfd3",
   "metadata": {},
   "outputs": [
    {
     "data": {
      "text/plain": [
       "256"
      ]
     },
     "execution_count": 2,
     "metadata": {},
     "output_type": "execute_result"
    }
   ],
   "source": [
    "2 ** 8"
   ]
  },
  {
   "cell_type": "markdown",
   "id": "2f18df53-2c62-41c3-8c17-03305e5ec151",
   "metadata": {},
   "source": [
    "## 변수\n",
    "\n",
    "### 변수를 이용한 계산"
   ]
  },
  {
   "cell_type": "code",
   "execution_count": 3,
   "id": "550922dc-cc9b-45ec-a8c5-4c1e952b7865",
   "metadata": {},
   "outputs": [
    {
     "data": {
      "text/plain": [
       "1.3333333333333333"
      ]
     },
     "execution_count": 3,
     "metadata": {},
     "output_type": "execute_result"
    }
   ],
   "source": [
    "x = 1\n",
    "y = 1 / 3\n",
    "x + y"
   ]
  },
  {
   "cell_type": "markdown",
   "id": "ee11f812-1fd8-4f94-be5d-7861832fada3",
   "metadata": {},
   "source": [
    "### 변수명의 표기\n",
    "여러 문자열로 표기 가능"
   ]
  },
  {
   "cell_type": "code",
   "execution_count": 4,
   "id": "0cde0222-b76d-4947-96f7-91c197c4aff8",
   "metadata": {},
   "outputs": [
    {
     "data": {
      "text/plain": [
       "0.8"
      ]
     },
     "execution_count": 4,
     "metadata": {},
     "output_type": "execute_result"
    }
   ],
   "source": [
    "Data_1 = 1 / 5\n",
    "Data_2 = 3 / 5\n",
    "Data_1 + Data_2"
   ]
  },
  {
   "cell_type": "markdown",
   "id": "6cfe9bcc-6bb2-4941-b4ca-500d8e73fae3",
   "metadata": {},
   "source": [
    "## 자료형\n",
    "\n",
    "### 자료형의 종류\n",
    "\n",
    "자료형 종류\n",
    "- int 형 : 정수 | a = 1\n",
    "- float 형 : 실수 | a = 1.5\n",
    "- str 형 : 문자열 | a = \"learning\"\n",
    "- bool 형 : 참과 거짓 | True or False\n",
    "- list 형 : 배열 | a = `[1,2,3]`\n",
    "- tuple 형 : 배열(수정 X) | a = (1,2,3)\n",
    "- ndarray 형 : 행렬 | a = np.array([1,2,3])\n"
   ]
  },
  {
   "cell_type": "code",
   "execution_count": 5,
   "id": "67401d5b-0716-4316-a8bf-1f25a35de449",
   "metadata": {},
   "outputs": [
    {
     "name": "stdout",
     "output_type": "stream",
     "text": [
      "<class 'int'>\n",
      "<class 'float'>\n"
     ]
    }
   ],
   "source": [
    "print(type(100))\n",
    "print(type(100.1))"
   ]
  },
  {
   "cell_type": "markdown",
   "id": "bab89be7-4601-4a9c-aebe-fb8b3f155e7d",
   "metadata": {},
   "source": [
    "### 문자열"
   ]
  },
  {
   "cell_type": "code",
   "execution_count": 6,
   "id": "144f06ae-eb2d-43a1-8511-482bcb5351f6",
   "metadata": {},
   "outputs": [
    {
     "data": {
      "text/plain": [
       "str"
      ]
     },
     "execution_count": 6,
     "metadata": {},
     "output_type": "execute_result"
    }
   ],
   "source": [
    "x = 'learning'\n",
    "type(x)"
   ]
  },
  {
   "cell_type": "markdown",
   "id": "89dd325a-306a-42fe-b3a8-c0d317be0887",
   "metadata": {},
   "source": [
    "## print문\n",
    "\n",
    "### 이용\n",
    "print문 안쓰면 주피터 노트북 기준 맨 마지막 셀만 출력함"
   ]
  },
  {
   "cell_type": "code",
   "execution_count": 7,
   "id": "ddc073f8-1dd7-4d16-a857-5142ed295d9d",
   "metadata": {},
   "outputs": [
    {
     "data": {
      "text/plain": [
       "0.6666666666666666"
      ]
     },
     "execution_count": 7,
     "metadata": {},
     "output_type": "execute_result"
    }
   ],
   "source": [
    "x = 1 / 3\n",
    "x\n",
    "y = 2 / 3\n",
    "y"
   ]
  },
  {
   "cell_type": "markdown",
   "id": "4aead7bd-8c3f-4803-8b3d-055a081d7f70",
   "metadata": {},
   "source": [
    "이 때 print 씀"
   ]
  },
  {
   "cell_type": "code",
   "execution_count": 8,
   "id": "f503fd36-00b7-4ba9-8397-797a9676e95a",
   "metadata": {},
   "outputs": [
    {
     "name": "stdout",
     "output_type": "stream",
     "text": [
      "0.3333333333333333\n",
      "0.6666666666666666\n"
     ]
    }
   ],
   "source": [
    "x = 1 / 3\n",
    "print(x)\n",
    "y = 2 / 3\n",
    "print(y)"
   ]
  },
  {
   "cell_type": "markdown",
   "id": "234257b2-74dc-47ef-bfa6-b943a9cd1189",
   "metadata": {},
   "source": [
    "### 문자열과 수치를 함께 표시1\n",
    "\n",
    "str 형에서 +란 두 str형을 합치는 개념임"
   ]
  },
  {
   "cell_type": "code",
   "execution_count": 11,
   "id": "304b5eca-9a1b-4ee3-bd34-4ab5d84e64c4",
   "metadata": {},
   "outputs": [
    {
     "name": "stdout",
     "output_type": "stream",
     "text": [
      "x= 0.3333333333333333\n"
     ]
    }
   ],
   "source": [
    "print('x= ' + str(x))"
   ]
  },
  {
   "cell_type": "markdown",
   "id": "063f6523-480f-4319-a270-aa4e50575d5e",
   "metadata": {},
   "source": [
    "### 문자열과 수치를 함께 표시2\n",
    "\n",
    "`format`쓰면 좀 편함"
   ]
  },
  {
   "cell_type": "code",
   "execution_count": 13,
   "id": "724a1f91-7d11-4e5b-a608-989c05fdb7c4",
   "metadata": {},
   "outputs": [
    {
     "name": "stdout",
     "output_type": "stream",
     "text": [
      "weight = 0.3333333333333333 kg\n"
     ]
    }
   ],
   "source": [
    "print('weight = {0} kg'.format(x))"
   ]
  },
  {
   "cell_type": "markdown",
   "id": "4c946b23-6a09-4803-b970-051f4d53b6e7",
   "metadata": {},
   "source": [
    "{0} 부분을 x의 내용으로 대체한다는 뜻임. 근데 이것보다 최근에 나온 **f-string**이 훨 편함"
   ]
  },
  {
   "cell_type": "markdown",
   "id": "959d06f1-8819-4d5d-89bc-6f8991f700e6",
   "metadata": {},
   "source": [
    "## list\n",
    "\n",
    "### list의 이용\n",
    "여러 데이터를 하나의 단위로 취급하고 싶은 경우, 즉 배열 변수를 사용하고 싶은 경우에 list형을 사용함."
   ]
  },
  {
   "cell_type": "code",
   "execution_count": 15,
   "id": "8ce03323-c8fb-4d90-bd2c-aeb26848a5e1",
   "metadata": {},
   "outputs": [
    {
     "data": {
      "text/plain": [
       "[1, 1, 2, 3, 5]"
      ]
     },
     "execution_count": 15,
     "metadata": {},
     "output_type": "execute_result"
    }
   ],
   "source": [
    "x = [1, 1, 2 ,3, 5]\n",
    "x"
   ]
  },
  {
   "cell_type": "code",
   "execution_count": 17,
   "id": "fe1d23c0-f8ec-4418-addd-491846888db7",
   "metadata": {},
   "outputs": [
    {
     "data": {
      "text/plain": [
       "1"
      ]
     },
     "execution_count": 17,
     "metadata": {},
     "output_type": "execute_result"
    }
   ],
   "source": [
    "x[1]"
   ]
  },
  {
   "cell_type": "code",
   "execution_count": 18,
   "id": "974fef44-50e9-4a69-9a3b-296a63c5edc5",
   "metadata": {},
   "outputs": [
    {
     "data": {
      "text/plain": [
       "2"
      ]
     },
     "execution_count": 18,
     "metadata": {},
     "output_type": "execute_result"
    }
   ],
   "source": [
    "x[2]"
   ]
  },
  {
   "cell_type": "code",
   "execution_count": 21,
   "id": "70c992b7-7b72-41a2-a9ad-56c8b346df52",
   "metadata": {},
   "outputs": [
    {
     "name": "stdout",
     "output_type": "stream",
     "text": [
      "<class 'list'>\n",
      "<class 'int'>\n"
     ]
    }
   ],
   "source": [
    "print(type(x))\n",
    "print(type(x[1]))"
   ]
  },
  {
   "cell_type": "code",
   "execution_count": 23,
   "id": "0d4dd5a8-b945-4085-8b65-ff1a722777ea",
   "metadata": {},
   "outputs": [
    {
     "name": "stdout",
     "output_type": "stream",
     "text": [
      "<class 'str'>\n",
      "<class 'int'>\n"
     ]
    }
   ],
   "source": [
    "s = ['SUN', 1, 'MON', 2]\n",
    "print(type(s[0]))\n",
    "print(type(s[1]))"
   ]
  },
  {
   "cell_type": "markdown",
   "id": "4fe55835-f1e1-4313-9549-7ad976b28937",
   "metadata": {},
   "source": [
    "### 2차원 배열"
   ]
  },
  {
   "cell_type": "code",
   "execution_count": 25,
   "id": "05984fef-f603-4622-9564-851088c201c1",
   "metadata": {},
   "outputs": [
    {
     "name": "stdout",
     "output_type": "stream",
     "text": [
      "[[1, 2, 3], [4, 5, 6]]\n"
     ]
    }
   ],
   "source": [
    "a=[[1,2,3], [4,5,6]]\n",
    "print(a)"
   ]
  },
  {
   "cell_type": "code",
   "execution_count": 26,
   "id": "8c572cfd-5823-4250-b5c3-1f9ee9ee6282",
   "metadata": {},
   "outputs": [
    {
     "name": "stdout",
     "output_type": "stream",
     "text": [
      "2\n"
     ]
    }
   ],
   "source": [
    "a=[[1,2,3], [4,5,6]]\n",
    "print(a[0][1])"
   ]
  }
 ],
 "metadata": {
  "kernelspec": {
   "display_name": "Python 3",
   "language": "python",
   "name": "python3"
  },
  "language_info": {
   "codemirror_mode": {
    "name": "ipython",
    "version": 3
   },
   "file_extension": ".py",
   "mimetype": "text/x-python",
   "name": "python",
   "nbconvert_exporter": "python",
   "pygments_lexer": "ipython3",
   "version": "3.8.8"
  }
 },
 "nbformat": 4,
 "nbformat_minor": 5
}
