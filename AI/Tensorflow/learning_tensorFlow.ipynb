{
  "nbformat": 4,
  "nbformat_minor": 0,
  "metadata": {
    "colab": {
      "provenance": [],
      "collapsed_sections": []
    },
    "kernelspec": {
      "name": "python3",
      "display_name": "Python 3"
    },
    "language_info": {
      "name": "python"
    }
  },
  "cells": [
    {
      "cell_type": "markdown",
      "source": [
        "# Tensorflow\n",
        "\n",
        "numerical data flow graph -> 노드들은 저마다 다른 작업을 하고, 서로 연결되어 있음\n",
        "\n",
        "Install tensorflow\n",
        "```shell\n",
        "pip install --upgrade tensorflow\n",
        "```"
      ],
      "metadata": {
        "id": "GAwrLeRFE-b7"
      }
    },
    {
      "cell_type": "code",
      "execution_count": 2,
      "metadata": {
        "colab": {
          "base_uri": "https://localhost:8080/",
          "height": 35
        },
        "id": "OobyA5_3-ESK",
        "outputId": "26ddf6a9-b535-4e22-8725-ff17a7695165"
      },
      "outputs": [
        {
          "output_type": "execute_result",
          "data": {
            "text/plain": [
              "'2.8.2'"
            ],
            "application/vnd.google.colaboratory.intrinsic+json": {
              "type": "string"
            }
          },
          "metadata": {},
          "execution_count": 2
        }
      ],
      "source": [
        "import tensorflow as tf\n",
        "tf.__version__  # check tensorflow version"
      ]
    },
    {
      "cell_type": "code",
      "source": [
        "# Create a constant op\n",
        "# This op is added as a node to the default graph\n",
        "hello = tf.constant(\"Hello, TensorFlow!\")  # tensorflow 기본 flow에서 node를 만들어줌!\n",
        "\n",
        "# seart a TF session, it can skip upper vesion 2.0.0\n",
        "# sess = tf.Session()\n",
        "\n",
        "# run the op and get result\n",
        "tf.print(hello)"
      ],
      "metadata": {
        "colab": {
          "base_uri": "https://localhost:8080/"
        },
        "id": "KREXgDsDBjAG",
        "outputId": "8faec5cb-0d43-481e-af11-355f1299b568"
      },
      "execution_count": 4,
      "outputs": [
        {
          "output_type": "stream",
          "name": "stdout",
          "text": [
            "Hello, TensorFlow!\n"
          ]
        }
      ]
    },
    {
      "cell_type": "markdown",
      "source": [
        "## Computational Graph\n",
        "\n",
        "기본적인 default 그래피에 constant 키워드를 통해 그래프 위에 node를 쌓아서, 여러 처리된 데이터들을 반환시킬 수 있게 해준다."
      ],
      "metadata": {
        "id": "tsgvxNqxEv5D"
      }
    },
    {
      "cell_type": "code",
      "source": [
        "node1 = tf.constant(3.0, tf.float32)\n",
        "node2 = tf.constant(4.0) # also tf.float32 implicitly\n",
        "node3 = tf.add(node1, node2) # add nodes value"
      ],
      "metadata": {
        "id": "7mzqS3kgC4Jg"
      },
      "execution_count": 6,
      "outputs": []
    },
    {
      "cell_type": "code",
      "source": [
        "print(\"node1:\", node1, \"node2:\", node2)\n",
        "print(\"node3:\", node3)"
      ],
      "metadata": {
        "colab": {
          "base_uri": "https://localhost:8080/"
        },
        "id": "WKulJzD4Daqp",
        "outputId": "c2e16867-e856-4494-fa4d-46cb77fd5778"
      },
      "execution_count": 7,
      "outputs": [
        {
          "output_type": "stream",
          "name": "stdout",
          "text": [
            "node1: tf.Tensor(3.0, shape=(), dtype=float32) node2: tf.Tensor(4.0, shape=(), dtype=float32)\n",
            "node3: tf.Tensor(7.0, shape=(), dtype=float32)\n"
          ]
        }
      ]
    },
    {
      "cell_type": "code",
      "source": [
        "tf.print(\"node1:\",node1, \"node2:\",node2)\n",
        "tf.print(\"node1 + node2 =\", node3)"
      ],
      "metadata": {
        "colab": {
          "base_uri": "https://localhost:8080/"
        },
        "id": "M8S5gmA2DnEQ",
        "outputId": "5fdfc2b5-e3bb-4c7c-f741-83f1b5f8f04d"
      },
      "execution_count": 9,
      "outputs": [
        {
          "output_type": "stream",
          "name": "stdout",
          "text": [
            "node1: 3 node2: 4\n",
            "node1 + node2 = 7\n"
          ]
        }
      ]
    },
    {
      "cell_type": "markdown",
      "source": [
        "## Placeholder & Variable\n",
        "\n",
        "앞에서 넣어준 constant 키워드는 node를 생성할 때 부터 데이터 값을 넣어주었다. 허나 Placeholder를 지정해주면 node를 실행시키기 바로 직전에 데이터를 입력해줄 수 있다.\n",
        "\n",
        "```python\n",
        "# tensorflow v1.0.0\n",
        "a = tf.placeholder(tf.float32)\n",
        "```\n",
        "\n",
        "```python\n",
        "# tensorflow v2.0.0\n",
        "a = tf.Variable(tf.float32) # 민감함\n",
        "\n",
        "@tf.function\n",
        "def adder(a, b):\n",
        "  return a + b;\n",
        "```\n",
        "\n",
        "추가로 2.0.0 버전에서 compatibility mode를 사용해 1.0.0 버전의 함수를 불러올 수도 있다고 한다.\n",
        "\n",
        "```python\n",
        "tf.disable_v2_behavior()"
      ],
      "metadata": {
        "id": "heruzXVTEcVH"
      }
    },
    {
      "cell_type": "code",
      "source": [
        "a = tf.Variable(1, tf.float32)\n",
        "b = tf.Variable(2)\n",
        "c = tf.Variable(0)\n",
        "\n",
        "a.assign(3)\n",
        "b.assign(4)\n",
        "\n",
        "tf.print(\"a + b =\", c.assign_add(a+b))"
      ],
      "metadata": {
        "colab": {
          "base_uri": "https://localhost:8080/"
        },
        "id": "a4Up7QyGEVxs",
        "outputId": "835b203e-f504-4eff-9e3c-298e2fab4f8d"
      },
      "execution_count": 18,
      "outputs": [
        {
          "output_type": "stream",
          "name": "stdout",
          "text": [
            "a + b = 7\n"
          ]
        }
      ]
    },
    {
      "cell_type": "markdown",
      "source": [
        "## Tensor\n",
        "\n",
        "3차원 배열을 일컫음.\n",
        "\n",
        "Tensor Ranks(3), Shapes([D0,D1,D2], and Types(almost tf.float32)\n"
      ],
      "metadata": {
        "id": "fK0iqGTfIuf5"
      }
    }
  ]
}