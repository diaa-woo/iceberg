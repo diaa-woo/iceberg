{
  "cells": [
    {
      "cell_type": "markdown",
      "metadata": {
        "id": "lxuxTBVgJYqI"
      },
      "source": [
        "## 대칭 (Flip, Symmetry)\n",
        "\n",
        "대칭(`Flip`)은 기하학적인 측면에서 __반사(relection)__의 의미를 갖는다.\n",
        "\n",
        "2차원 유클리드 공간에서의 기하학적인 변환의 하나로 $R^2$(2차원 유클리드 공간) 위의 선형 변환을 진행한다.\n",
        "\n",
        "여기서 __선형 변환__의 정의는 다음과 같다\n",
        "> 선형변환은 선형 결합을 보존하는, 두 벡터 공간 사이의 함수이다.\n",
        "\n",
        "간단하게 설명을 하자면, 독립 변수를 함수에 집어 넣으면 종속변수의 값을 내놓는것 처럼, 하나의 벡터를 집어넣으면 다른 하나의 벡터로 출력해주는 형태를 말한다. 다만 선형대수학에서는 입력-출력 관계를 기하학적으로 시각화하는 특정한 방법을 암시해주기에 __변환__이라는 용어를 사용한다.\n",
        "\n",
        "대칭은 변환할 행렬(이미지)에 대해 __2X2 행렬에서 왼쪽 곱셈을 진행한다.__ 즉, 'p' 형태의 물체에 Y축 대칭을 적용한다면 'q' 형태를 갖게 된다.\n",
        "\n",
        "그러므로, 원본 행렬(이미지)에 각 축에 대한 대칭을 적용했을 때, 단순히 원본 행렬에서 __축에 따라 재매핑__을 적용하면 대칭된 행렬을 얻을 수 있다.\n",
        "\n",
        "이미지란 결국엔 비트의 행렬이기 때문에, 행렬 자체를 대칭시켜 이미지 또한 대칭이 가능하고, `numpy`가 기본적으로 내장되어 있기에 앞으로 행렬에 관해 이것저것 많이 다룰 것으로 보인다.\n",
        "\n",
        "### 메인 코드\n",
        "\n",
        "```python\n",
        "import cv2\n",
        "\n",
        "src = cv2.imread(\"glass.jpg\", cv2.IMREAD_COLOR)\n",
        "dst = cv2.flip(src, 0)\n",
        "\n",
        "cv2.imshow(\"src\", src)\n",
        "cv2.imshow(\"dst\", dst)\n",
        "cv2.waitKey()\n",
        "cv2.destroyAllWindows()\n",
        "```\n",
        "\n",
        "### 세부 코드 & 코드 분석\n",
        "\n",
        "```python\n",
        "src = cv2.imread(\"glass.jpg\", cv2.IMREAD_COLOR)\n",
        "```\n",
        "이미지 입력 함수(`cv2.imread`)을 통해 원본 이미지로 사용할 `src`를 선언하고 __로컬 경로__에서 이미지 파일을 읽어온다.\n",
        "\n",
        "```python\n",
        "dst = cv2.flip(src, 0)\n",
        "```\n",
        "대칭 함수(`cv2.flip`)로 이미지를 대칭할 수 있다.\n",
        "\n",
        "`dst = cv2.flip(src, flipCode)`는 원본 이미지(`src`)에 대칭 축(`flipCode`)을 기준으로 대칭한 출력 이미지(`dst`)를 반환한다.\n",
        "\n",
        "__대칭 축__은 __상수__를 입력해 대칭할 축을 정할 수 있다.\n",
        "\n",
        "- `flipCode < 0`은 __XV축 대칭(상하좌우 대칭)__을 적용한다.\n",
        "- `flipCode = 0`은 __X축 대칭(상하 대칭)__을 적용한다.\n",
        "- `flipCode > 0`은 __Y축 대칭(좌우 대칭)__을 적용한다.\n",
        "\n",
        "```python\n",
        "cv2.imshow(\"src\", src)\n",
        "cv2.imshow(\"dst\", dst)\n",
        "cv2.waitKey()\n",
        "cv2.destroyAllWindows()\n",
        "```\n",
        "이미지 표시 함수는 여러 개의 윈도우 창을 띄울 수 있으며, 동일한 이미지도 여러 개의 윈도우 창으로 띄울 수 있다.\n",
        "\n",
        "단, __윈도우 창의 제목은 중복되지 않게 작성한다.__\n",
        "\n",
        "### 추가로 궁금했던 점\n",
        "\n",
        "__Q. 무조건 상하좌우 대칭밖에 안되나?__   \n",
        "A. ㅇㅇ 아쉽게도 안된다. `flipCode`에 90과 45를 번갈아가며 넣어봤는데 역시 좌우대칭밖에 되질 않았다.\n"
      ]
    },
    {
      "cell_type": "code",
      "execution_count": null,
      "metadata": {
        "id": "JSeb4k03T5E5"
      },
      "outputs": [],
      "source": [
        "import cv2\n",
        "\n",
        "src = cv2.imread(\"glass.jpg\", cv2.IMREAD_COLOR)\n",
        "dst = cv2.flip(src, 0)\n",
        "\n",
        "cv2.imshow(\"src\", src)\n",
        "cv2.imshow(\"dst\", dst)\n",
        "cv2.waitKey()\n",
        "cv2.destroyAllWindows()"
      ]
    },
    {
      "cell_type": "markdown",
      "metadata": {
        "id": "MILCApVSoYHt"
      },
      "source": [
        "## 회전(Rotate)\n",
        "\n",
        "__회전(Rotate)__은 선형 변환중 하나에 포함되며, __회전 변환 행렬(Rotation matrix)__을 통해 변환이 진행된다.\n",
        "\n",
        "회전 변환 행렬은 임의의 점을 중심으로 물체를 회전시킨다. 회전 변환 행렬의 일부는 __반사 행렬(Reflection matrix)__과 같은 값을 지닐 수 있다.\n",
        "\n",
        "2차원 유클리드 공간에서의 회전은 크게 두 가지 회전 행렬을 갖는다. __좌푯값을 회전시키는 회전 행렬__과 __좌표축을 회전시키는 회전 행렬__이 있다.\n",
        "\n",
        "좌표 회전 행렬은 원점을 중심으로 좌푯값을 회전시켜 매핑하며, 좌표 축 회전 행렬은 원점을 중심으로 행렬 자체를 회전시켜 새로운 행렬의 값을 구성한다.\n",
        "\n",
        "OpenCV의 회전 함수는 __좌표 축의 회전 이동 행렬과 동일한 형태__이며, 비율을 조정하거나 중심점의 기준을 변경하여 회전할 수 있다.\n",
        "\n",
        "### 메인 코드\n",
        "\n",
        "```python\n",
        "import cv2\n",
        "\n",
        "src = cv2.imread(\"ara.jpg\", cv2.IMREAD_COLOR)\n",
        "\n",
        "height, width, channel = src.shape\n",
        "matrix = cv2.getRotationMatrix2D((width/2, height/2), 90, 1)\n",
        "dst = cv2.warpAffine(src, matrix, (width, height))\n",
        "\n",
        "cv2.imshow(\"src\", src)\n",
        "cv2.imshow(\"dst\", dst)\n",
        "cv2.waitKey()\n",
        "cv2.destroyAllWindows()\n",
        "```\n",
        "\n",
        "### 세부 코드 & 코드 분석\n",
        "\n",
        "```python\n",
        "height, width, channel = src.shape\n",
        "```\n",
        "\n",
        "`height, width, channel = src.shape`를 이용하여 해당 이미지의 `높이`, `너비`, `채널`의 값을 저장한다.\n",
        "\n",
        "높이와 너비를 이용하여 __회전 중심점__을 설정한다.\n",
        "\n",
        "```python\n",
        "matrix = cv2.getRotationMatrix2D((width/2, height/2), 90, 1)\n",
        "```\n",
        "\n",
        "2X3 회전 행렬 생성 함수(`cv2.getRotationMatrix2D`)로 회전 변환 행렬을 계산한다.\n",
        "\n",
        "`matrix = cv2.getRotationMatrix2D(center, angle, scale)`는 중심점(`center`), 각도(`angle`), 비율(`scale`)로 매핑 변환 행렬(`matrix`)을 생성한다.\n",
        "\n",
        "중심점(`center`)은 튜플(`Tuple`) 형태로 사용하며 회전의 __기준점__을 설정한다.\n",
        "\n",
        "각도(`angle`)는 중심점을 기준으로 __회전할 각도__를 설정한다.\n",
        "\n",
        "비율(`scale`)은 이미지의 __확대 및 축소 비율__을 설정한다.\n",
        "\n",
        "```python\n",
        "dst = cv2.warpAffine(src, matrix, (width, height))\n",
        "```\n",
        "\n",
        "아핀 변환 함수(`cv2.warpAffine`)로 회전 변환을 계산한다.\n",
        "\n",
        "`dst = cv2.warpAffine(src, M, dsize)`는 원본 이미지(`src`)에 아핀 맵 행렬(`M`)을 적용하고 출력 이미지 크기(`dsize`)로 변형해서 출력 이미지(`dst`)를 반환한다.\n",
        "\n",
        "아핀 맵 행렬(`M`)은 회전 행렬 생성 함수에 반환된 매핑 변환 행렬을 사용한다.\n",
        "\n",
        "출력 이미지 크기(`dsize`)는 듀플(`Tuple`) 형태로 사용하며 출력 이미지의 너비와 높이를 의미한다.\n",
        "\n",
        "`아핀 맵 행렬`에 따라 `회전된 이미지`를 반환한다."
      ]
    },
    {
      "cell_type": "code",
      "execution_count": null,
      "metadata": {
        "id": "J0uGnm1tr3Os"
      },
      "outputs": [],
      "source": [
        "import cv2\n",
        "\n",
        "src = cv2.imread(\"ara.png\", cv2.IMREAD_COLOR)\n",
        "\n",
        "height, width, channel = src.shape\n",
        "matrix = cv2.getRotationMatrix2D((width/2, height/2), 90, 1)\n",
        "dst = cv2.warpAffine(src, matrix, (width, height))\n",
        "\n",
        "cv2.imshow(\"src\", src)\n",
        "cv2.imshow(\"dst\", dst)\n",
        "cv2.waitKey()\n",
        "cv2.destroyAllWindows()"
      ]
    }
  ],
  "metadata": {
    "colab": {
      "collapsed_sections": [
        "3pzo8cllIekX",
        "GBH7u8QBUhRb",
        "OAitrsGDPY0Q"
      ],
      "name": "OpenCV-Study.ipynb",
      "provenance": []
    },
    "kernelspec": {
      "display_name": "Python 3.11.0 ('venv': venv)",
      "language": "python",
      "name": "python3"
    },
    "language_info": {
      "name": "python",
      "version": "3.11.0"
    },
    "vscode": {
      "interpreter": {
        "hash": "bdb28e4dfb16017974b16c90b7d859cb6120b2325bdb8f6f6176846d9735194d"
      }
    }
  },
  "nbformat": 4,
  "nbformat_minor": 0
}
