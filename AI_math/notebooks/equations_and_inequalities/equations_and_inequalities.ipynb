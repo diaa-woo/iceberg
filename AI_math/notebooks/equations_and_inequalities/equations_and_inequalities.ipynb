{
 "cells": [
  {
   "attachments": {},
   "cell_type": "markdown",
   "metadata": {},
   "source": [
    "# 방정식과 부등식"
   ]
  },
  {
   "attachments": {},
   "cell_type": "markdown",
   "metadata": {},
   "source": [
    "## SymPy란?\n",
    "\n",
    "SymPy는 파이썬에서 기초 수학(Symbolic math)을 위한 라이브러리이다. 모두 파이썬으로 작성하였으며, 속도와 시각화 등에 필요한 확장 기능도 파함하고 있다. SymPy를 이용하면 대수(algebra) 문제를 기호 수학으로 풀 수 있다.\n",
    "\n",
    "SymPy는 다음 수학적 풀이에 대부분 사용한다.\n",
    "- 방정식의 해 구하기 : `solve()`\n",
    "- 미분과 적분"
   ]
  },
  {
   "cell_type": "code",
   "execution_count": 1,
   "metadata": {},
   "outputs": [
    {
     "name": "stdout",
     "output_type": "stream",
     "text": [
      "[3]\n"
     ]
    }
   ],
   "source": [
    "from sympy import Symbol, solve\n",
    "\n",
    "# 기호변수 x 선언\n",
    "x = Symbol('x')\n",
    "\n",
    "# 방정식을 풀어내려면 \"(일차방정식) = 0\"의 기본 형태로 만들어주어야 함\n",
    "# 이를 위해 모든 식을 좌변으로 이항 후 equation으로 변수화\n",
    "equation = 2*x-6\n",
    "\n",
    "# 방정식의 해를 구하는 solve() 함수 호출\n",
    "print(solve(equation))"
   ]
  },
  {
   "attachments": {},
   "cell_type": "markdown",
   "metadata": {},
   "source": [
    "## 방정식\n",
    "\n",
    "### 등식\n",
    "\n",
    "- 등호(=)를 기준으로 양쪽에 숫자와 문자로 구성된 식이 *'서로 같음'*을 의미하는 관계식\n",
    "- 등호를 기준으로 왼쪽은 *좌변*, 오른쪽은 *우변*이라 명칭\n",
    "\n",
    "ex)\n",
    "- $2+4=6$\n",
    "- $3-5=3+4$\n",
    "\n",
    "해당 식이 참이든 아니들 무조건 등식이다. 다만 식이 맞으면 *참의 등식*, 아니면 *거짓인 등식*이라 표현한다."
   ]
  },
  {
   "attachments": {},
   "cell_type": "markdown",
   "metadata": {},
   "source": [
    "### 방정식\n",
    "\n",
    "- x같은 **미지수**에 따라 참이 되기도 하고 거짓이 되기도 하는 식을 의미한다. 따라서 방정식은 반드시 등호와 미지수가 함께 존재하여야 한다.\n",
    "\n",
    "ex) $x+2=6$ 이라는 식이 존재한다.\n",
    "\n",
    "- x가 4일 시 좌변과 우변 모두 6이 되어 참인 식이 된다.\n",
    "- x가 3일 시 좌변은 5, 우변은 6이 되어 거짓인 식이 된다.\n",
    "\n",
    "이와 같이 미지수 x에 따라 참이 되기도 하고 거짓이 되기도 하기 때문에 $x+2=6$은 방정식이다.\n",
    "\n",
    "방정식이 참일 때 미지수를 **방정식의 해(또는 방정식의 근)**라고 하며, 앞의 예를 사용하면 x가 4였을 때 식이 참이 되었으므로 방정식의 해는 4이다."
   ]
  },
  {
   "attachments": {},
   "cell_type": "markdown",
   "metadata": {},
   "source": [
    "### 일차방정식과 이차방정식\n",
    "\n",
    "- 차수가 1이냐, 2이냐의 차이일 뿐. 다만 방정식의 차수가 넘어갈수록 최고차항의 계수가 0이 아니어야함!\n",
    "- 기본 형태\n",
    "  - 일차방정식: (일차방정식) = 0\n",
    "  - 이차방정식: $ax^{2}+bx+c=0$, 단 $(a\\ne0)$\n",
    "\n",
    "단, 모든 수학 문제가 그러하듯 순순히 기본 형태로 제공해주지 않아, 다소 난해한 수식이 존재할 시 기본 형태로 바꿔줘야 하는 작업이 필요함.\n",
    "\n",
    "ex) $2(x+1)=3+2x$ 식이 존재할 때, 이항을 통해 기본 형태로 맞춘 후 방정식의 차수 판단 및 방정식의 해 판별\n",
    "- $\\to2(x+1)-3-2x=0$\n",
    "- $\\to2x+2-3-2x=0$\n",
    "- $\\to-1=0$\n",
    "\n",
    "해당 식은 미지수 x가 남아있질 않아 방정식으로 불리지 않음.\n",
    "\n",
    "ex) $2x+2=3+3x$ 식 존재 시, 미지수는 모두 좌변으로, 상수들은 모두 우변으로 이항해 방정식의 해 도출 가능\n",
    "- $\\to2x-3x=-2+3$\n",
    "- $\\to-x=1$\n",
    "- $\\to x=-1$"
   ]
  },
  {
   "attachments": {},
   "cell_type": "markdown",
   "metadata": {},
   "source": [
    "#### 연습 문제\n",
    "\n",
    "1. $4 = k-2$\n",
    "2. $10 = 2k$\n",
    "3. $k/2 = 8$"
   ]
  },
  {
   "cell_type": "code",
   "execution_count": 2,
   "metadata": {},
   "outputs": [
    {
     "name": "stdout",
     "output_type": "stream",
     "text": [
      "[6]\n",
      "[5]\n",
      "[16]\n"
     ]
    }
   ],
   "source": [
    "from sympy import Symbol, solve\n",
    "\n",
    "# 1\n",
    "k = Symbol('k')\n",
    "\n",
    "equation1 = k -2 -4\n",
    "print(solve(equation1))\n",
    "\n",
    "# 2\n",
    "k = Symbol('k')\n",
    "\n",
    "equation2 = 2*k -10\n",
    "print(solve(equation2))\n",
    "\n",
    "# 3\n",
    "k = Symbol('k')\n",
    "\n",
    "equation3 = k/2 -8\n",
    "print(solve(equation3))\n"
   ]
  },
  {
   "attachments": {},
   "cell_type": "markdown",
   "metadata": {},
   "source": [
    "### 항등식\n",
    "\n",
    "- 미지수에 어떤 수를 대입하더라도 항상 참이 되는 식을 의미\n",
    "- 좌변=우변\n",
    "\n",
    "ex) $2x+1=1+2x$ 라는 식이 존재할 때, **교환 법칙**에 따라 차리를 바꾸면 똑같이 $2x+1$ 이 되어 좌변과 같은 식이 되므로 해당 식은 항등식이다."
   ]
  },
  {
   "attachments": {},
   "cell_type": "markdown",
   "metadata": {},
   "source": [
    "#### 연습 문제\n",
    "\n",
    "방정식, 항등식을 골라내라.\n",
    "\n",
    "1. $x+x=2x$ -> 2x=2x, 항등식\n",
    "2. $2x+1<6$ -> 애초에 등식이 아님\n",
    "3. $2x-x=x$ -> x=x, 항등식\n",
    "4. $2+5=7$  -> 미지수가 없어 일반 등식임."
   ]
  },
  {
   "attachments": {},
   "cell_type": "markdown",
   "metadata": {},
   "source": [
    "### 연립방정식\n",
    "\n",
    "- **미지수가 여러 개** 포함된 방정식을 묶어 놓은 것\n",
    "\n",
    "$\\begin{cases}\n",
    "3x+y=2 \\\\\n",
    "x-2y=3 \\\\\n",
    "\\end{cases}$\n",
    "\n",
    "- 위의 수식은 미지수가 x와 y를 포함하기에 연립방정식이라고 할 수 있다.\n",
    "- 이 때 미지수가 두 개라면 식도 최소 두 개이어야 하며, 미지수가 세 개일시 식도 최소 세 개가 주어져야 한다.\n",
    "\n",
    "$\\begin{cases}\n",
    "x+y=2 \\\\\n",
    "y+z=5 \\\\\n",
    "z-x=3 \\\\\n",
    "\\end{cases}$\n",
    "\n",
    "해당 연립방정식을 어떻게 풀까? 두 연립방정식을 서로 더하거나 빼며 미지수를 지워가며 단 하나의 미지수만 남도록 해준 뒤, 차례차례 미지수의 해를 구해가며 식을 풀어나가야 한다.   \n",
    "예를 들어 맨 위의 연립방정식 중 미지수 x를 지운다고 가정하면, 두 식의 계수가 다르기 때문에 한 식에서 좌우변을 모두 3을 곱해줘야 한다. 그렇게 한 뒤 두 식을 서로 맞물려 하나의 미지수를 지운 후 y의 해를 구한 뒤 대입하여 나머지 x의 값을 구해내는 방식으로 식을 구해야 한다.\n",
    "\n",
    "$\\begin{cases}\n",
    "3x+y=2 \\\\\n",
    "3*(x-2y)=(3*3) \\\\\n",
    "\\end{cases}$"
   ]
  },
  {
   "cell_type": "code",
   "execution_count": 3,
   "metadata": {},
   "outputs": [
    {
     "data": {
      "text/plain": [
       "[{x: 1, y: -1}]"
      ]
     },
     "execution_count": 3,
     "metadata": {},
     "output_type": "execute_result"
    }
   ],
   "source": [
    "# 파이썬에서 연립방정식을 구하는 방법\n",
    "from sympy import Symbol, solve\n",
    "x = Symbol('x')\n",
    "y = Symbol('y')\n",
    "\n",
    "# 모든 항들을 좌변으로 이항한 후 나오는 방정식을 equation 변수애 각각 저장한다.\n",
    "equation1 = 3*x+y-2\n",
    "equation2 = x-2*y-3\n",
    "\n",
    "# solve() 함수 안에 equation을 차례로 입력하면 방정식을 풀어서 결과를 반환한다.\n",
    "solve((equation1, equation2), dict=True)    # dict 매개변수는 딕셔너리 반환 여부이다"
   ]
  },
  {
   "attachments": {},
   "cell_type": "markdown",
   "metadata": {},
   "source": [
    "## 부등식\n",
    "\n",
    "- 부등호($<,\\le,\\ge,>$)를 사용하여 나타낸 식\n",
    "- 유형\n",
    "  - 절대부등식: **모든** 실수 값에 대해 항상 성립하는 부등식 -> 항등식과 같은 개념!\n",
    "  - 조건부등식: **어떤** 실수 값에 대해서만 성립하는 부등식 -> 방정식과 같은 개념!\n",
    "\n",
    "ex)\n",
    "1. $x+2\\ge7$\n",
    "2. $x^{2}+5\\le0$\n",
    "\n",
    "다음과 같은 수식이 존재할 때, 1번은 x의 값에 따라 해당 부등식의 성립 유무가 갈리지만, 2번은 실수 x에 한해서 어떤 값을 대입시켜도 부등식이 성립된다. 고로 1은 조건부등식, 2는 절대부등식이다.\n",
    "\n",
    "**성질**\n",
    "- 부등식의 양변에 같은 수를 더하든, 빼든 부등호의 방향은 바뀌지 않는다\n",
    "  - ex) $3 + 1 > 2 + 1$ -> 양쪽변에 1을 더하더라도 같은 부등호 방향 유지\n",
    "- 부등식의 양변에 같은 수를 나눌 때 양수로 곱하거나 나누면 그대로, 음수로 하면 방향이 바뀐다.\n",
    "  - ex) $ 3 > 2$ : 해당 부등식 양변에 -3을 곱해주면 부등호의 방향이 바뀐다 -> $ 3 * -3 < 2 * -3$\n",
    "\n",
    "<img src=\"https://i.namu.wiki/i/EuG_tjojFNLWnbp083M8GSBAv1CrfuPudXaMf-e8bcIU3UJgMSKgySg-HDw90ksW9T6-cfCyw33NtdgjvtHJQg.webp\">"
   ]
  }
 ],
 "metadata": {
  "kernelspec": {
   "display_name": "ai_math",
   "language": "python",
   "name": "python3"
  },
  "language_info": {
   "codemirror_mode": {
    "name": "ipython",
    "version": 3
   },
   "file_extension": ".py",
   "mimetype": "text/x-python",
   "name": "python",
   "nbconvert_exporter": "python",
   "pygments_lexer": "ipython3",
   "version": "3.8.17"
  },
  "orig_nbformat": 4
 },
 "nbformat": 4,
 "nbformat_minor": 2
}
