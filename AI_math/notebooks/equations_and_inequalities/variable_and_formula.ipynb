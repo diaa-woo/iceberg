{
 "cells": [
  {
   "attachments": {},
   "cell_type": "markdown",
   "metadata": {},
   "source": [
    "[상위 문서로 이동](../../README.md)"
   ]
  },
  {
   "attachments": {},
   "cell_type": "markdown",
   "metadata": {},
   "source": [
    "\n",
    "\n",
    "# 변수와 수식\n",
    "\n",
    "## 변수\n",
    "\n",
    "### 변수와 상수   \n",
    "변수의 변(變)은 변하다는 의미이며, 변하는 수를 변수라고 한다. $y=2x+3$ 식이 존재할 때, x,y는 변수이고, 2와 3은 변하지 않는 상수이다.\n",
    "\n",
    "파이썬에서 변수는 *변수 이름 = 값*의 형태를 띄고 있으며, 다음과 같은 규칙이 따르고 있다.\n",
    "- 문자와 숫자, _(밑줄 문자)를 사용할 수 있다\n",
    "- 공백은 사용 불가이다.\n",
    "- 대.소문자를 구분한다.\n",
    "- 문자와 숫자를 혼용하여 사용할 수 있으나, 반드시 문자부터 사용하여야 한다.\n",
    "- 특수 문자(+,-,@,% 등)는 사용할 수 없다."
   ]
  },
  {
   "cell_type": "code",
   "execution_count": 2,
   "metadata": {},
   "outputs": [
    {
     "name": "stdout",
     "output_type": "stream",
     "text": [
      "5\n"
     ]
    }
   ],
   "source": [
    "x = 5\n",
    "print(x)"
   ]
  },
  {
   "cell_type": "code",
   "execution_count": 3,
   "metadata": {},
   "outputs": [
    {
     "name": "stdout",
     "output_type": "stream",
     "text": [
      "1 2 3\n"
     ]
    }
   ],
   "source": [
    "# x, y, z 변수에 1, 2, 3 값을 각각 저장\n",
    "x, y, z = 1, 2, 3\n",
    "print(x, y, z)"
   ]
  },
  {
   "attachments": {},
   "cell_type": "markdown",
   "metadata": {},
   "source": [
    "### 항, 상수항, 계수\n",
    "\n",
    "- 항: 숫자 또는 문자의 곱으로 구성된 식                        ex) $3a, 2a^{2}$\n",
    "- 상수항: 숫자만 있는 항                                    ex) 3, 2\n",
    "- 계수: 상수와 변수로 구성된 **단항식**에서 변수와 곱해진 상수     ex) $2x+3y-3$ -> 2, 3, -3\n"
   ]
  },
  {
   "attachments": {},
   "cell_type": "markdown",
   "metadata": {},
   "source": [
    "### 단항식과 다항식\n",
    "\n",
    "- 단항식: 항이 하나로만 이루어진 식             ex) 3, $2a$\n",
    "- 다항식: 항이 두 개 이상인 항의 합으로 된 식     ex) $2x+3y-3$"
   ]
  },
  {
   "attachments": {},
   "cell_type": "markdown",
   "metadata": {},
   "source": [
    "### 차수\n",
    "\n",
    "- 차수: 문자를 곱한 횟수\n",
    "\n",
    "ex) $2x^{2}+3y^{1}-3$\n",
    "\n",
    "해당 식이 존재할 때, 변수에 기준에 따라 해당 방정식의 차수는 달라질 수 있음. 예를 들어 x가 기준일 시 *'x에 대한 이차식'*, y가 기준일 시 *'y에 대한 일차식'*으로 명명"
   ]
  },
  {
   "attachments": {},
   "cell_type": "markdown",
   "metadata": {},
   "source": [
    "## 수식\n",
    "\n",
    "- 수식: 변수와 상수를 **연산자**를 이용하여 표현한 식\n",
    "\n",
    "ex) x,y 변수 + a, b 상수 -> $y=ax+b$"
   ]
  },
  {
   "cell_type": "code",
   "execution_count": 4,
   "metadata": {},
   "outputs": [
    {
     "name": "stdout",
     "output_type": "stream",
     "text": [
      "10\n",
      "-4\n",
      "21\n",
      "2.3333333333333335\n",
      "1\n",
      "9\n",
      "1\n"
     ]
    }
   ],
   "source": [
    "a,b,c = 3, 7, 2\n",
    "\n",
    "print(a+b)\n",
    "print(a-b)\n",
    "print(a*b)\n",
    "print(b/a)\n",
    "print(b%a)\n",
    "print(a**c)\n",
    "print(a//c)\n"
   ]
  }
 ],
 "metadata": {
  "kernelspec": {
   "display_name": ".venv",
   "language": "python",
   "name": "python3"
  },
  "language_info": {
   "codemirror_mode": {
    "name": "ipython",
    "version": 3
   },
   "file_extension": ".py",
   "mimetype": "text/x-python",
   "name": "python",
   "nbconvert_exporter": "python",
   "pygments_lexer": "ipython3",
   "version": "3.8.17"
  },
  "orig_nbformat": 4
 },
 "nbformat": 4,
 "nbformat_minor": 2
}
