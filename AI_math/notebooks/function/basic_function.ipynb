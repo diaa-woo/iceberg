{
 "cells": [
  {
   "attachments": {},
   "cell_type": "markdown",
   "metadata": {},
   "source": [
    "# 기초 함수"
   ]
  },
  {
   "attachments": {},
   "cell_type": "markdown",
   "metadata": {},
   "source": [
    "## 함수\n",
    "\n",
    "### 함수란\n",
    "\n",
    "함수는 첫 번째 집합의 임의믜 한 원소를 두 번째 집합의 원소 하나에 **대응시키는 관계**이다.\n",
    "\n",
    "![function](data:image/png;base64,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)\n",
    "\n",
    "위의 그림처럼 X와 Y 변수에 대해 X값이 정해지면 Y값이 결정될 때, Y를 X의 함수라고 한다. **함수는 X값에 따라 Y값 하나에만 대응한다.**\n",
    "\n",
    "이때 **X와 Y의 관계식**을 **함수식**이라고 하며, 다음과 같이 표현 가능하다.\n",
    "\n",
    "$$Y=X$$\n",
    "\n",
    "X 앞에 붙여지는 계수, 혹은 수식을 통해 **대응 관계**를 형성시킬 수 있다. 또한 다음과 같이 표현 가능하다.\n",
    "\n",
    "$$Y=f(X)$$\n",
    "$$f(X)=X$$\n",
    "\n",
    "### 함수값\n",
    "**X값에 따라 결정되는 Y값을 함수 값**이라고 한다. 앞서 대응하는 값이 하나일 때 함수임을 정의했으므로 X값에 따라 Y값은 필연적으로 변할 수 밖에 없다.\n",
    "\n",
    "ex) $Y=1000X(f(X)=1000X)$ 에서 $X=1$ 일 때 $Y=1000$ 이 되므로 함수 값은 1000이 된다. 이를 식으로 표현하면 다음과 같다.\n",
    "$$f(1)=1000$$\n",
    "\n",
    "#### 연습 문제\n",
    "\n",
    "$f(X) = aX + 2$ 일 때, $f(3)=8$ 이다. 다음을 구하시오.   \n",
    "1. a 값은?\n",
    "2. $f(6)-f(2)$의 값은?\n",
    "\n",
    "**1.**\n",
    "$f(3)=3a+2=8$ -> a = 2\n",
    "\n",
    "**2.**\n",
    "$f(6)-f(2)$ -> $(2*6+2)-(2*3+2)$ -> $14-8$ -> $6$\n",
    "\n",
    "## 함수와 방정식\n",
    "\n",
    "$$y=2x+3$$\n",
    "$$y-2x-3=0$$\n",
    "\n",
    "다음 두 수식의 차이는 무엇일까?\n",
    "\n",
    "- **함수**: x 값에 따라 y값이 결정되는 것   \n",
    "  - 위의 수식에서 임의로 값을 x에 대입할 때 마다 y의 값이 변한다. 따라서 위의 수식은 **함수** \n",
    "- **방정식**: 변수를 포함하는 등식에서 변수 값에 따라 참 또는 거짓이 성립하는 식\n",
    "  - 아래의 수식에서 x,y의 값이 각각 1, 2면 참, 아닐 시 거짓이 된다. 따라서 아래 수식은 **방정식**\n",
    "\n",
    "이를 통해 풀어낸 함수와 방정식의 관계는 다음과 같다.\n",
    "\n",
    "- 실수 범위 안에서 함수와 방정식 모두 좌표 평면에 표현할 수 있음\n",
    "- 방정식은 함수를 포괄하는 개념\n",
    "- 모든 함수는 방정식으로 바꾸어서 표현 가능\n"
   ]
  }
 ],
 "metadata": {
  "language_info": {
   "name": "python"
  },
  "orig_nbformat": 4
 },
 "nbformat": 4,
 "nbformat_minor": 2
}
