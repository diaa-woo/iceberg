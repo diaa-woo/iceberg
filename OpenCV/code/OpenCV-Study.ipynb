{
  "nbformat": 4,
  "nbformat_minor": 0,
  "metadata": {
    "colab": {
      "name": "OpenCV-Study.ipynb",
      "provenance": [],
      "collapsed_sections": [
        "3pzo8cllIekX"
      ]
    },
    "kernelspec": {
      "name": "python3",
      "display_name": "Python 3"
    },
    "language_info": {
      "name": "python"
    }
  },
  "cells": [
    {
      "cell_type": "markdown",
      "source": [
        "# OpenCV 공부\n",
        "\n",
        "OpenCV는 __Open Source Computer Visible Library__의 약어로 컴퓨터 비전 라이브러라를 의미한다.\n",
        "   \n",
        "실시간 이미지 프로세싱에 중점을 두었으며, Open Source Licence는 BSD 라이선스를 사용하였다.\n",
        "\n",
        "OpenCV는 계산 효율성과 실시간 처리에 중점을 두고 설계 되었으며\n",
        "500가지가 넘는 알고리즘이 최적화돼 있으며 이 알고리즘을 구성하거나 지원하는 함수는 알고리즘 수의 10배가 넘는다고 한다.\n",
        "\n",
        "물체 인식, 얼굴 인식, 제스처 인식을 비롯해 자율주행 자동차, OCR 판독기, 불량 검사기 등에 할 수 있다고 하는데, 우리는 한번 자율주행 자동차 분야에 적용해볼 생각이다. \n",
        "\n",
        "원래는 C가 주 개발언어였으나 2.0 부터는 C++이 주가 되었고, Python이 등장한 이후부터는 Python에서 엄청나게 많이 사용되는 추세이다.\n",
        "\n",
        "나는 효율적인 마크다운 작성과 코드 작성을 위해 주피터 노트북 작성은 코랩으로 하되, 실제 개발환경은 가상환경을 따로 만들어서 동작한다\n",
        "\n",
        "이 글의 출처는 다음과 같다: https://076923.github.io/posts/Python-opencv-1/"
      ],
      "metadata": {
        "id": "7DrSzpd7HKx4"
      }
    },
    {
      "cell_type": "markdown",
      "source": [
        "## OpenCv 설치\n",
        "\n",
        "OpenCV는 다음과 같은 패키지를 보유하고 있다.\n",
        "\n",
        "```\n",
        "opencv-python\n",
        "opencv-contrib-python\n",
        "opencv-python-headless\n",
        "opencv-contrib-python-headless\n",
        "```\n",
        "\n",
        "`contrib`는 일반 opencv-python에서 확장 모듈을 설치하는 것이다.\n",
        "\n",
        "`headless`는 GUI 종속 라이브러리가 없는 서버 환경(Docker, Cloud)에서 사용할 수 없는 환경에서 라이브러리를 제외하고 사용하는 것이다.\n",
        "\n",
        "평범한 상황일 때는 `opencv-python`을 쓰도록 하자\n",
        "\n",
        "설치는 pip를 통해서 하면 된다\n",
        "\n",
        "```sh\n",
        "pip3 install opencv-python\n",
        "```"
      ],
      "metadata": {
        "id": "3pzo8cllIekX"
      }
    },
    {
      "cell_type": "code",
      "source": [
        "!pip3 install opencv-python  # 이미 있넹..? ㅎ"
      ],
      "metadata": {
        "colab": {
          "base_uri": "https://localhost:8080/"
        },
        "id": "XrQzZGgWIeRB",
        "outputId": "b4e2f6da-d519-445b-83da-e1965dfda764"
      },
      "execution_count": null,
      "outputs": [
        {
          "output_type": "stream",
          "name": "stdout",
          "text": [
            "Looking in indexes: https://pypi.org/simple, https://us-python.pkg.dev/colab-wheels/public/simple/\n",
            "Requirement already satisfied: opencv-python in /usr/local/lib/python3.7/dist-packages (4.6.0.66)\n",
            "Requirement already satisfied: numpy>=1.14.5 in /usr/local/lib/python3.7/dist-packages (from opencv-python) (1.21.6)\n"
          ]
        }
      ]
    },
    {
      "cell_type": "markdown",
      "source": [
        "## 카메라 출력\n",
        "OpenCV를 이용하면 카메라 출력을 쉽게 할 수 있다.\n",
        "카메라 출력은 카메라가 `스트리밍 형태`로 동작할 수 있을 때 사용된다.   \n",
        "\n",
        "여기서 말하는 스트리밍 형태란 저장된 이미지나 동영상 파일이 아니라 __데이터를 실시간으로 받아오고 분석해야 하는 경우__ 카메라를 이용해 데이터를 처리해주는 경우를 말한다.\n",
        "\n",
        "카메라를 사용해 데이터를 받아오기 때문에 연결된 카메라의 장치 번호를 통해 받아오며, 사용중인 플랫폼에서 카메라에 대한 접근 권한이 허용되어야 한다.   \n",
        "-> ex) 권한과의 전쟁 Linux\n",
        "\n",
        "### 메인 코드"
      ],
      "metadata": {
        "id": "GBH7u8QBUhRb"
      }
    },
    {
      "cell_type": "code",
      "source": [
        "import cv2\n",
        "\n",
        "capture = cv2.VideoCapture(0)\n",
        "capture.set(cv2.CAP_PROP_FRAME_WIDTH, 640)\n",
        "capture.set(cv2.CAP_PROP_FRAME_HEIGHT, 480)\n",
        "\n",
        "while cv2.waitKey(33) < 0 :\n",
        "  ret, frame = capture.read()\n",
        "  cv2.imshow(\"VideoFrame\", frame)\n",
        "\n",
        "capture.release()\n",
        "cv2.destroyAllWindows()"
      ],
      "metadata": {
        "id": "IFlLCGFZVQ5S"
      },
      "execution_count": null,
      "outputs": []
    },
    {
      "cell_type": "markdown",
      "source": [
        "### 코드 설명\n",
        "\n",
        "```python\n",
        "# cv2.VideoCatpture(index)\n",
        "\n",
        "capture = cv2.VideoCapture(0)\n",
        "```\n",
        "`비디오 출력 클래스(cv2.VideoCapture)`를 통해 내장 카메라 또는 외장 카메라에서 정보를 받아올 수 있다.\n",
        "\n",
        "`cv2.VideoCapture(index)`로 카메라의 __장치 번호(ID)__와 연결한다. `index`는 __카메라의 장치번호__를 의미한다.\n",
        "\n",
        "노트북의 경우, 일반적으로 내장 카메라가 존재하므로 노트북 카메라의 장치 번호는 `0`이 된다.\n",
        "\n",
        "허나 카메라를 추가적으로 연결하여 __외장 카메라__를 사용하는 경우, 장치 번호가 `1_n`까지 순차적으로 할당된다. (찾는 방법을 안알려주는거 보니 아마 1부터 시작하거나 녹아다로 찾아내시라는 거 같다...)\n",
        "\n",
        "```python\n",
        "# capture.set(propid, value)\n",
        "\n",
        "capture.set(cv2.CAP_PROP_FRAME_WIDTH, 640)\n",
        "capture.set(cv2.CAP_PROP_FRAME_HEIGHT, 480)\n",
        "```\n",
        "\n",
        "`카메라 속성 설정 메서드(capture.set)`로 카메라의 속성을 설정한다.\n",
        "\n",
        "`capture.set(propid, value)`로 카메라의 `속성(propid)`과 `값(value)`을 설정할 수 있다.\n",
        "\n",
        "`propid`는 변경하려는 __카메라 설정__을 의미한다.\n",
        "\n",
        "`value`는 변경하려는 카메라 설정의 속성값을 의미한다.\n",
        "\n",
        "```python\n",
        "while cv2.waitKey(33) < 0 :\n",
        "  ret, frame = capture.read()\n",
        "  cv2.imshow(\"VideoFrame\", frame)\n",
        "```\n",
        "\n",
        "`반복문(While)`을 활용하여 카메라에서 프레임을 지속적으로 받아와준다.\n",
        "\n",
        "`키 입력 대기 함수(cv2.waitkey)`는 지정된 시간 동안 키 입력이 있을 때까지 프로그램을 지연시킨다.\n",
        "\n",
        "`cv2.waitkey(delay)`로 키 입력을 기다린다. `delay`는 __지연 시간__을 의미한다.\n",
        "\n",
        "이 시간의 단위는 밀리초 단위이며, 이 시간 동안 키 입력을 기다리고 입력이 없을 경우 다음 구문을 실행한다.\n",
        "\n",
        "키 입력 대기 함수는 입력된 키의 __아스키 코드 값__을 반환한다.\n",
        "\n",
        "즉, 어떤 키라도 입력되기 전까지 33ms마다 반복문을 실행한다.\n",
        "\n",
        "- `delay`가 __0__일 경우, 지속적으로 키 입력을 검사하여 __프레임이 넘어가지 않는다.__\n",
        "- `while cv2.waitKey(33) != ord('q') :`으로 사용할 경우, `q`가 입력될 때 `while`문을 종료한다.  \n",
        "\n",
        "<br/>\n",
        "\n",
        "`프레임 읽기 메서드(capture.read)`를 이용하여 `카메라의 상태` 및 `프레임`을 받아온다.\n",
        "\n",
        "`ret`은 카메라의 상태가 저장되며 정상 작동할 경우 `True`를 반환한다. 작동하지 않을 경우 `False`를 반환한다.\n",
        "\n",
        "`frame`에 현재 시점의 프레임이 저장된다.\n",
        "\n",
        "<br/>\n",
        "\n",
        "`이미지 표시 함수(cv2.imshow)`를 이용하여 특정 __윈도우 창__에 __이미지__를 띄운다.\n",
        "\n",
        "`cv2.imshow(winname, mat)`으로 `윈도우 창의 제목`과 `이미지`를 할당한다.\n",
        "\n",
        "`winname`은 문자열로 표시하며, 할당한 문자열이 변수와 비슷한 역할을 한다.\n",
        "\n",
        "`mat`은 이미지를 의미하며, 윈도우 창에 할당한 이미지를 의미한다.\n",
        "\n",
        "__VideoFrame__ 이름을 갖는 윈도우 창에 프레임이 표시된다.\n",
        "\n",
        "<br/>\n",
        "\n",
        "```python\n",
        "capture.release()\n",
        "cv2.destoryAllWindows()\n",
        "```\n",
        "\n",
        "`메모리 헤제 메서드(capture.release())`로 카메라 장치에서 받아온 __메모리를 헤제한다__\n",
        "\n",
        "`모든 윈도우 창 제거 함수(cv2.destoryAllWindows)`를 이용하여 모든 윈도우 창을 닫는다.\n",
        "\n",
        "만약, 특정 윈도우 창만 닫는다면, `cv2.destoryWindow(winname)`으로 __특정 윈도우 창만 닫을 수 있다__"
      ],
      "metadata": {
        "id": "cMIzt_kXXkjK"
      }
    },
    {
      "cell_type": "markdown",
      "source": [
        ""
      ],
      "metadata": {
        "id": "ZQbQPioMcBmY"
      }
    },
    {
      "cell_type": "markdown",
      "source": [
        "## 이미지 출력\n",
        "OpenCV는 __래스터 그래픽스 이미지 파일 포맷(Raster Graphics Image File Format)__을 쉽게 불러올 수 있는 별도의 함수를 제공한다.\n",
        "\n",
        "여기서 래스터 그래픽스 포맷이란 맵 화상 디스플레이 포맷으로 이미지 데이터를 저장하기 위해 사용된다. 각 화소가 하나 개의 작은 부분에 대응하는 직사각형 픽셀 그리드를 사용하여 이미지를 사용하는 도트 매트릭스 구조를 사용한다. 자세한 내용은 <a href=\"https://www.solvusoft.com/ko/file-extensions/type/raster-image-files/\"> 여기</a>를 참조하면 된다.\n",
        "\n",
        "이 함수는 이미지를 불러올 때 압축 해제된 이미지 데이터 구조에 필요한 메모리 할당 등의 복잡한 작업을 처리하며, __파일 시그니처(File Signature)__를 읽어 적절한 코덱을 결정한다. -> 여기서 적절한 래스터 그래픽스 포맷으로 변환된다.\n",
        "\n",
        "OpenCV에서 이미지를 불러올 때는 확장자를 확인하는 방식이 아닌 파일 시그니처를 읽어 파일의 포맷을 분석한다.\n",
        "\n",
        "파일 시그니처는 `파일 매직 넘버(File Magic Number)`라고도 하며, 각 파일 형식마다 몇 개의 바이트가 지정되어 있다. \n",
        "\n",
        "예를 들어, __PNG__ 확장저의 경우 __89 50 4E 47 ...__ 형태로 파일 헤더에 포함되어 있다.\n",
        "\n",
        "이 이미지 입력함수는 OS의 Codec을 사용해 OS 별로 픽셀값이 다를 수 있다.\n",
        "\n",
        "### 메인 코드 \n",
        "\n",
        "```python\n",
        "import cv2\n",
        "\n",
        "image = cv2.imread(\"Image/lunar.jpg\", cv2.IMREAD_ANYCOLOR)\n",
        "cv2.imshow(\"Moon\", image)\n",
        "cv2.waitKey()\n",
        "cv2.destoryAllWindows()\n",
        "```\n",
        "\n",
        "### 세부 코드 & 코드 분석\n",
        "\n",
        "```python\n",
        "image = cv2.imread(\"Image/lunar.jpg\", cv2.IMREAD_ANYCOLOR)\n",
        "```\n",
        "\n",
        "이미지 입력 함수 `cv2.imread`를 통해 __로컬 경로__의 이미지 파일을 읽어올 수 있다.\n",
        "\n",
        "`image = cv2.imread(fileName, flags)`는 파일 경로(`fileName`)의 이미지 파일을 `flags` 설정에 따라 불러온다.\n",
        "\n",
        "파일 경로(`fileName`)는 __상대 경로__ 또는 __절대 경로__를 사용해 이미지를 불러온다.\n",
        "\n",
        "`flags`는 이미지를 초기에 불러올 때 적용할 `초기 상태`를 의미한다.\n",
        "\n",
        "- `flags`\n",
        "  - `cv2.IMREAD_UNCHANGED`: 원본 사용\n",
        "  - `cv2.IMREAD_GRAYSCALE`: 1채널, 그레이스케일 적용\n",
        "  - `cv2.IMREAD_COLOR`: 3채널, BGR 이미지 사용\n",
        "  - `cv2.IMREAD_ANYDEPTH`: 이미지에 따라 정밀도를 16/32비트 또는 8비트로 사용\n",
        "  - `cv2.IMREAD_ANYCOLOR`: 가능한 3채널, 색상 이미지로 사용\n",
        "  - `cv2.IMREAD_REDUCED_GRAYSCALE_2`: 1채널, 1/2 크기, 그레이스케일 적용\n",
        "  - `cv2.IMREAD_REDUCED_GRAYSCALE_4`: 1채널, 1/4 크기, 그레이스케일 적용\n",
        "  - `cv2.IMREAD_REDUCED_GRAYSCALE_8`: 1채널, 1/8 크기, 그레이스케일 적용\n",
        "  - `cv2.IMREAD_REDUCED_COLOR_2`: 3채널, 1/2 크기, BGR 이미지 사용\n",
        "  - `cv2.IMREAD_REDUCED_COLOR_4`: 3채널, 1/4 크기, BGR 이미지 사용\n",
        "  - `cv2.IMREAD_REDUCED_COLOR_8`: 3채널, 1/8 크기, BGR 이미지 사용\n",
        "\n",
        "여기서 그레이스케일이란 사진을 흑백 명암 처리해준다는 것이다.\n",
        "\n",
        "```python \n",
        "cv2.imshow(\"Moon\", image)\n",
        "cv2.waitKey()\n",
        "cv2.destoryAllWindows()\n",
        "```\n",
        "\n",
        "이미지 표시 함수(`cv2.imshow`)와 키 입력 대기 함수(`cv2.waitkey`)로 윈도우 창에 이미지를 띄울 수 있다.\n",
        "\n",
        "키 입력 대기 함수를 사용하지 않을 경우, __윈도우 창이 유지되지 않고__ 프로그램이 종료된다.\n",
        "\n",
        "키 입력 이후, 모든 윈도우 창 제거 함수(`cv2.destoryAllWindows`)를 이용하여 모든 윈도우 창을 닫게 해준다.\n",
        "\n",
        "### 추가 정보\n",
        "\n",
        "```python3\n",
        "height, width, channel = image.shape\n",
        "print(height, width, channel)\n",
        "```\n",
        "\n",
        "__결과: 1920 1280 3__\n",
        "\n",
        "`height, width, channel = image.shape`를 이용하여 해당 이미지의 높이, 너비, 채널 값을 확인할 수 있다!\n",
        "\n",
        "이미지의 속성은 __크기, 정밀도, 채널__을 주요한 속성으로 사용한다.\n",
        "\n",
        "- 크기: 이미지의 __높이__와 __너비__를 의미한다.\n",
        "- 정밀도: 이미지의 처리 결과의 __정밀성__을 의미한다.\n",
        "- 채널: 이미지의 __색상 정보__를 의미한다.\n",
        "- Tip들\n",
        "  - __유효 비트가 많을수록 더 정밀해진다!__\n",
        "  - 채널이 3인 경우, __다색 이미지__이다. 반면 채널이 1인 경우, __단색 이미지__이다."
      ],
      "metadata": {
        "id": "OAitrsGDPY0Q"
      }
    },
    {
      "cell_type": "code",
      "source": [
        "import cv2\n",
        "\n",
        "image = cv2.imread(\"Image/lunar.jpg\", cv2.IMREAD_ANYCOLOR)\n",
        "cv2.imshow(\"Moon\", image)\n",
        "cv2.waitKey()\n",
        "cv2.destoryAllWindows()"
      ],
      "metadata": {
        "id": "Hbb4z2njYK5x"
      },
      "execution_count": null,
      "outputs": []
    }
  ]
}