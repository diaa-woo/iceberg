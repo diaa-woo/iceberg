{
  "nbformat": 4,
  "nbformat_minor": 0,
  "metadata": {
    "colab": {
      "provenance": []
    },
    "kernelspec": {
      "name": "python3",
      "display_name": "Python 3"
    },
    "language_info": {
      "name": "python"
    }
  },
  "cells": [
    {
      "cell_type": "markdown",
      "source": [
        "# 입출력\n",
        "\n",
        "대부분 알고리즘 문제 풀이의 시작 부분은 데이터를 입력받는 것이다. 보통 파이썬의 기본 입력 방법은 `input()`을 사용하는데, 이 경우는 한 줄의 문자열을 입력받고록 할 수 있게 해준다. \n",
        "\n",
        "그러나 여러개의 데이터를 받아야 할 경우가 간혹 존재하는데, 이때 데이터는 공백으로 구분되는 경우가 많아 입력 받는 명령어가 전부 다르다. 이에 현 노트북 문서는 파이썬에서 데이터를 입력받을 수 있는 최적의 명령어를 서술한다."
      ],
      "metadata": {
        "id": "iKINIlifLF81"
      }
    },
    {
      "cell_type": "markdown",
      "source": [
        "## 전형적인 코드\n",
        "\n",
        "### `input()`\n",
        "매우매우 기본적인 입력 코드이다. 이 같은 경우는 한 줄의 문자열만 인식하는데, 정수형 데이터를 받아야 할 경우 int()를 감싸주어 `int(input())`을 작성해주면 된다.\n",
        "\n",
        "### `list(map(int, input().split()))`\n",
        "위 같은 입력 방식은 문자열을 바꿔주어야 하는데, 공백으로 문자열을 받아야 할 경우 위와 같은 코드를 사용한다. 이 코드의 동작 방식은, 먼저 `input()`으로 입력받은 문자열을 `split()`을 이용해 공백으로 리스트를 나눈다. 그리고 `map`을 이용하여 해당 리스트의 모든 원소에 `int()` 함수를 적용한 뒤, 최종적으로 `list()`로 다시 바꿈으롰 입력받은 문자열을 띄어쓰기로 구분하여 각각 숫자 자료형으로 저장하게 된다."
      ],
      "metadata": {
        "id": "7-5QXVNoL3qh"
      }
    },
    {
      "cell_type": "code",
      "execution_count": 1,
      "metadata": {
        "colab": {
          "base_uri": "https://localhost:8080/"
        },
        "id": "XTCqGbA_KyvJ",
        "outputId": "b4a33024-1aab-499a-ef68-d7ee60bdb147"
      },
      "outputs": [
        {
          "output_type": "stream",
          "name": "stdout",
          "text": [
            "5\n",
            "1 2 3 4 5\n",
            "[5, 4, 3, 2, 1]\n"
          ]
        }
      ],
      "source": [
        "# 데이터의 개수 입력\n",
        "n = int(input())\n",
        "# 각 데이터를 공백으로 구분하여 입력\n",
        "data = list(map(int, input().split()))\n",
        "\n",
        "data.sort(reverse = True)\n",
        "print(data)"
      ]
    },
    {
      "cell_type": "markdown",
      "source": [
        "## 좀 가볍게 해보기\n",
        "공백으로 구분된 데이터의 개수가 많지 않으면 굳이 `list`로 만들 이유가 없다. 해서 단순히 `map(int, input().split())`만 사용해도 공백을 구분하여 데이터 저장이 가능하다."
      ],
      "metadata": {
        "id": "89kcyRZuNGqT"
      }
    },
    {
      "cell_type": "code",
      "source": [
        "# n, m, k를 공백으로 구분하여 입력\n",
        "n, m, k = map(int, input().split())\n",
        "\n",
        "print(n, m, k)"
      ],
      "metadata": {
        "colab": {
          "base_uri": "https://localhost:8080/"
        },
        "id": "1UyIR_OENbju",
        "outputId": "ea6a0d40-a250-427b-9b9d-de974e4330a5"
      },
      "execution_count": 2,
      "outputs": [
        {
          "output_type": "stream",
          "name": "stdout",
          "text": [
            "5 4 5\n",
            "5 4 5\n"
          ]
        }
      ]
    },
    {
      "cell_type": "markdown",
      "source": [
        "## 속도를 더욱 줄이고 싶다면?\n",
        "문제를 풀다보면 입력을 최대한 빠르게 받아야 하는 경우도 있는데, 정렬, 이진 탐색, 최단 경로 문제의 경우 **매우 많은 데이터**가 연속적으로 입력이 되곤 한다.\n",
        "\n",
        "파이썬의 경우 입력의 개수가 많을 때 단순히 `input()` 함수를 그대로 사용하는게 아닌 `sys` 라이브러리에 정의되어 있는 `sys.stdin.readline()` 함수를 이용한다.\n",
        "이 함수는 한 줄씩 입력받기 위해 사용된다."
      ],
      "metadata": {
        "id": "k7TrlSyiNj7m"
      }
    },
    {
      "cell_type": "code",
      "source": [
        "import sys\n",
        "sys.stdin.readline().rstrip()"
      ],
      "metadata": {
        "colab": {
          "base_uri": "https://localhost:8080/",
          "height": 35
        },
        "id": "xB-slerBOIWn",
        "outputId": "f2159906-9066-4f72-adc3-4ca0009aa65c"
      },
      "execution_count": 3,
      "outputs": [
        {
          "output_type": "execute_result",
          "data": {
            "text/plain": [
              "''"
            ],
            "application/vnd.google.colaboratory.intrinsic+json": {
              "type": "string"
            }
          },
          "metadata": {},
          "execution_count": 3
        }
      ]
    },
    {
      "cell_type": "markdown",
      "source": [
        "`sys` 라이브러리를 사용할 때는 한 줄 입력을 받고 나서 `rstrip()` 함수를 꼭 호출해야 한다. `readline()`으로 입력하면 입력 후 enter가 줄 바꿈 기호로 입력되는데, 이 공백 문자를 제거하려면 `rstrip()`함수를 사용해야 한다. "
      ],
      "metadata": {
        "id": "RH7viNDTOQ-X"
      }
    },
    {
      "cell_type": "code",
      "source": [
        "import sys\n",
        "\n",
        "# 문자열 입력받기\n",
        "data = sys.stdin.readline().rstrip()  # colab에서는 동작 안하지 싶다\n",
        "print(data)"
      ],
      "metadata": {
        "colab": {
          "base_uri": "https://localhost:8080/"
        },
        "id": "IP7xBoCROxWr",
        "outputId": "ed009487-95c0-4e19-c068-dcb95a53c668"
      },
      "execution_count": 4,
      "outputs": [
        {
          "output_type": "stream",
          "name": "stdout",
          "text": [
            "\n"
          ]
        }
      ]
    },
    {
      "cell_type": "markdown",
      "source": [
        "## 출력\n",
        "\n",
        "파이썬으로 출력을 할 때는 보통 `print()`를 매우 많이 사용하는데, `print()`는 변수나 상수를 매개변수로 입력받아 이를 표준 출력한다. `print()`는 각 변수를 콤마(,)로 구분하여 매개변수로 넣을 수 있는데, 이 경우 각 변수가 띄어쓰기로 구분되어 출력된다."
      ],
      "metadata": {
        "id": "07tKI-JYPCWT"
      }
    },
    {
      "cell_type": "code",
      "source": [
        "# 출력할 변수들\n",
        "a = 1\n",
        "b = 2\n",
        "\n",
        "print(a,b)"
      ],
      "metadata": {
        "colab": {
          "base_uri": "https://localhost:8080/"
        },
        "id": "YPamEgtNPcxF",
        "outputId": "852e0514-3172-4cdd-8d5c-77de66ebacb0"
      },
      "execution_count": 5,
      "outputs": [
        {
          "output_type": "stream",
          "name": "stdout",
          "text": [
            "1 2\n"
          ]
        }
      ]
    },
    {
      "cell_type": "markdown",
      "source": [
        "기본적으로 출력 이후에는 줄 바꿈을 수행하는데, 따라서 `print()`를 수행할 때 마다 줄이 변경된다고 볼 수 있다."
      ],
      "metadata": {
        "id": "gMi1ChxSPkAw"
      }
    },
    {
      "cell_type": "code",
      "source": [
        "# 출력할 변수들\n",
        "a = 1\n",
        "b = 2\n",
        "\n",
        "print(a)\n",
        "print(b)"
      ],
      "metadata": {
        "colab": {
          "base_uri": "https://localhost:8080/"
        },
        "id": "8iZCDKxDPsm3",
        "outputId": "18a6a944-8f6a-40c9-d87f-baadf4b7a7fa"
      },
      "execution_count": 6,
      "outputs": [
        {
          "output_type": "stream",
          "name": "stdout",
          "text": [
            "1\n",
            "2\n"
          ]
        }
      ]
    },
    {
      "cell_type": "markdown",
      "source": [
        "## 문자열과 수를 함께 표현하기\n",
        "일부 문제의 경우 출력할 때 문자열과 수를 함께 출력해야 되는 경우가 있는데, 이 경우는 단순히 더하기 연산자(+)를 이용한다. 이 때 조심해야 할 것은 더하기 연산자는 문자열만 더할 수 있다.  ~~이건 C가 편하누 ㅎ~~\n"
      ],
      "metadata": {
        "id": "3WvoznuPPx9D"
      }
    },
    {
      "cell_type": "code",
      "source": [
        "# 출력할 변수들\n",
        "answer = 7\n",
        "\n",
        "print(\"정답은 \"+ answer + \"입니다.\")"
      ],
      "metadata": {
        "colab": {
          "base_uri": "https://localhost:8080/",
          "height": 201
        },
        "id": "n7HepstmQLkA",
        "outputId": "93d0d418-0f57-42b4-f568-1877142cbd54"
      },
      "execution_count": 7,
      "outputs": [
        {
          "output_type": "error",
          "ename": "TypeError",
          "evalue": "ignored",
          "traceback": [
            "\u001b[0;31m---------------------------------------------------------------------------\u001b[0m",
            "\u001b[0;31mTypeError\u001b[0m                                 Traceback (most recent call last)",
            "\u001b[0;32m<ipython-input-7-6994409696a8>\u001b[0m in \u001b[0;36m<module>\u001b[0;34m\u001b[0m\n\u001b[1;32m      2\u001b[0m \u001b[0manswer\u001b[0m \u001b[0;34m=\u001b[0m \u001b[0;36m7\u001b[0m\u001b[0;34m\u001b[0m\u001b[0;34m\u001b[0m\u001b[0m\n\u001b[1;32m      3\u001b[0m \u001b[0;34m\u001b[0m\u001b[0m\n\u001b[0;32m----> 4\u001b[0;31m \u001b[0mprint\u001b[0m\u001b[0;34m(\u001b[0m\u001b[0;34m\"정답은 \"\u001b[0m\u001b[0;34m+\u001b[0m \u001b[0manswer\u001b[0m \u001b[0;34m+\u001b[0m \u001b[0;34m\"입니다.\"\u001b[0m\u001b[0;34m)\u001b[0m\u001b[0;34m\u001b[0m\u001b[0;34m\u001b[0m\u001b[0m\n\u001b[0m",
            "\u001b[0;31mTypeError\u001b[0m: can only concatenate str (not \"int\") to str"
          ]
        }
      ]
    },
    {
      "cell_type": "markdown",
      "source": [
        "다음과 같이 문자열 자료형끼리만 더하기 연산이 가능하다는 오류 메시지를 확인할 수 있는데, 이 경우에는 2가지 방법으로 해결할 수 있다. 하나는 `str()` 함수를 이용해 출력하고자 하는 변수 데이터를 문자열로 바꾸어 주는 것이고, 다른 하나는 각 자료형을 콤마(,)를 기준으로 구분하여 출력하면 된다. 이때 콤마를 사용할 경우, 변수의 값 사이에 의도치 않은 공백이 삽입된다. 이는 어떻게 할 수 없으니 유의하도록 하자."
      ],
      "metadata": {
        "id": "T8vPzdTlQUtB"
      }
    },
    {
      "cell_type": "code",
      "source": [
        "# 문자열 변환\n",
        "\n",
        "# 출력할 변수들\n",
        "answer = 7\n",
        "\n",
        "print(\"정답은 \" + str(answer) + \"입니다.\")"
      ],
      "metadata": {
        "colab": {
          "base_uri": "https://localhost:8080/"
        },
        "id": "tPjQQ2aNQ-nP",
        "outputId": "f5afcaa1-ca10-4a62-fcc8-9893a16cf33a"
      },
      "execution_count": 8,
      "outputs": [
        {
          "output_type": "stream",
          "name": "stdout",
          "text": [
            "정답은 7입니다.\n"
          ]
        }
      ]
    },
    {
      "cell_type": "code",
      "source": [
        "# 콤마 사용\n",
        "\n",
        "# 출력할 변수들\n",
        "answer = 7\n",
        "\n",
        "print(\"정답은\", answer, \"입니다.\")"
      ],
      "metadata": {
        "colab": {
          "base_uri": "https://localhost:8080/"
        },
        "id": "YJihKC4lRPoj",
        "outputId": "d64516ad-dd7f-4651-f6f0-9a58dc02fa9a"
      },
      "execution_count": 9,
      "outputs": [
        {
          "output_type": "stream",
          "name": "stdout",
          "text": [
            "정답은 7 입니다.\n"
          ]
        }
      ]
    },
    {
      "cell_type": "markdown",
      "source": [
        "## f-string\n",
        "Python 3.6 이상의 버전부터는 f-string 문법을 사용할 수 있는데, 문자열 앞에 접두사 'f'를 붙여 사용할 수 있다. 이를 이용하면 단순히 중괄호({}) 안에 변수를 넣음으로써, 자료형의 변환 없이도 간단히 문자열과 정수를 넣을 수 있다."
      ],
      "metadata": {
        "id": "66ZKlVAZRXeD"
      }
    },
    {
      "cell_type": "code",
      "source": [
        "answer = 7\n",
        "print(f\"정답은 {answer}입니다.\")"
      ],
      "metadata": {
        "colab": {
          "base_uri": "https://localhost:8080/"
        },
        "id": "ij3NQ8JoR39U",
        "outputId": "d6c5a35b-cdf0-41e8-e174-9ade9f1e0048"
      },
      "execution_count": 10,
      "outputs": [
        {
          "output_type": "stream",
          "name": "stdout",
          "text": [
            "정답은 7입니다.\n"
          ]
        }
      ]
    }
  ]
}