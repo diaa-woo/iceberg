{
 "cells": [
  {
   "cell_type": "markdown",
   "id": "4f8bf1e4-d4cf-41c9-b6c5-d3e9b0d82a7e",
   "metadata": {},
   "source": [
    "## Python Basics"
   ]
  },
  {
   "cell_type": "markdown",
   "id": "8cba1eea-f194-4602-8a9b-40d2f58c3a52",
   "metadata": {},
   "source": [
    "__1. Correct indentation and strings__\n",
    "- Strings are used for storing and representing text data.(Like HTML)"
   ]
  },
  {
   "cell_type": "code",
   "execution_count": 2,
   "id": "963c9f60-26f0-4333-bc39-fe7aee240e77",
   "metadata": {},
   "outputs": [
    {
     "name": "stdout",
     "output_type": "stream",
     "text": [
      "This sign is an excellent job!\n",
      "Sign name \n",
      " is Practical calls\n",
      "Those who don't take \n",
      "this hks regret their decisions?\n"
     ]
    }
   ],
   "source": [
    "print('This sign is an excellent job!')\n",
    "print('Sign name \\n is Practical calls')\n",
    "print(\"Those who don't take \\nthis hks regret their decisions?\")  #Check Single and Double quotation"
   ]
  },
  {
   "cell_type": "markdown",
   "id": "485da49c-4794-4b3e-93d7-2442a05244c6",
   "metadata": {},
   "source": [
    "__2. Integers, floats and decimals: using Python as a calculator__\n",
    " - Variable names are identifiers, so they follow the rules of identifier.\n",
    " - Variables store values such as strings, numbers, and other data types.\n",
    " - Use a hash #, to write memos in a line."
   ]
  },
  {
   "cell_type": "code",
   "execution_count": 7,
   "id": "c97df65c-5733-49a6-ac10-ff3da4afd163",
   "metadata": {},
   "outputs": [
    {
     "data": {
      "text/plain": [
       "40"
      ]
     },
     "execution_count": 7,
     "metadata": {},
     "output_type": "execute_result"
    }
   ],
   "source": [
    "#addition: using a hash(#) sign, you can write memos.\n",
    "23+17"
   ]
  },
  {
   "cell_type": "code",
   "execution_count": 6,
   "id": "f15817ca-3fe4-4fda-bc8d-cf8d5be3f55d",
   "metadata": {},
   "outputs": [],
   "source": [
    "2/3"
   ]
  },
  {
   "cell_type": "code",
   "execution_count": 11,
   "id": "e1c94407-df73-49f1-8fe4-038465da2f3f",
   "metadata": {},
   "outputs": [
    {
     "name": "stdout",
     "output_type": "stream",
     "text": [
      "40\n",
      "40 6 391 1.3529411764705883\n"
     ]
    }
   ],
   "source": [
    "#using ; sign, you can declare more command lines in one line.\n",
    "x = 23; y = 17\n",
    "print(x + y)\n",
    "print(x + y, x - y, x * y, x/y)"
   ]
  },
  {
   "cell_type": "markdown",
   "id": "67be2693-234b-45f3-a9e3-6d7147f756a2",
   "metadata": {},
   "source": [
    "__3. Data types and simple use of print function__"
   ]
  },
  {
   "cell_type": "code",
   "execution_count": 2,
   "id": "2cabe49b-0f32-4503-913c-14e4ee9cf52c",
   "metadata": {},
   "outputs": [
    {
     "name": "stdout",
     "output_type": "stream",
     "text": [
      "y + z = 12.5\n",
      "z - y = 2.5\n",
      "y * z = 37.5\n",
      "y / z = 0.6666666666666666\n",
      "y ** z = 174692.81074217107\n",
      "z // y = 1.0\n",
      "z % y = 2.5\n",
      "<class 'int'>\n",
      "<class 'float'>\n"
     ]
    }
   ],
   "source": [
    "y = 5 # assing a value to the variable y.\n",
    "z = 7.5\n",
    "# Addition\n",
    "print(\"y + z =\", y+z)\n",
    "# Subtraction\n",
    "print(\"z - y =\", z-y)\n",
    "# Multiplication\n",
    "print(\"y * z =\", y*z)\n",
    "# Division\n",
    "print(\"y / z =\", y/z)\n",
    "# Exponent\n",
    "print(\"y ** z =\", y**z)\n",
    "# Floor division: returns the highest integer, not greater than result \n",
    "print(\"z // y =\", z//y)\n",
    "# Remainer\n",
    "print(\"z % y =\", z%y)\n",
    "print(type(y))\n",
    "print(type(z))"
   ]
  },
  {
   "cell_type": "markdown",
   "id": "4609c890-b33d-4e0f-8617-55b73305b6cb",
   "metadata": {},
   "source": [
    "__4. String, Boolean, and triple quoted strings__"
   ]
  },
  {
   "cell_type": "markdown",
   "id": "f58e17bb-215a-49ea-947e-87dc36f8e8e7",
   "metadata": {},
   "source": [
    " - Boolean expression\n",
    " - \"\"\" are used to write multiple line strings \"\"\".\n",
    " - ls also used to docstrings."
   ]
  },
  {
   "cell_type": "code",
   "execution_count": 3,
   "id": "d0e497e1-c5c5-4434-bafa-9c565c4ea404",
   "metadata": {},
   "outputs": [
    {
     "name": "stdout",
     "output_type": "stream",
     "text": [
      "True\n",
      "False\n",
      "<class 'bool'> True\n"
     ]
    }
   ],
   "source": [
    "print(7 > 3)\n",
    "print(3 > 7)\n",
    "x = 7 > 3\n",
    "print(type(x), x)"
   ]
  },
  {
   "cell_type": "code",
   "execution_count": 5,
   "id": "1aa78bbf-52da-49c4-865b-1297ea7fe424",
   "metadata": {},
   "outputs": [
    {
     "data": {
      "text/plain": [
       "'\\na + b =c\\nd + e =g\\n'"
      ]
     },
     "execution_count": 5,
     "metadata": {},
     "output_type": "execute_result"
    }
   ],
   "source": [
    "\"\"\"Triple quoted strings are used to write multiple line strings.\n",
    "This is an example of a doc string.\"\"\"\n",
    "\"\"\"I like you\"\"\"\n",
    "\n",
    "\"\"\"\n",
    "a + b = c\n",
    "d + e = g\n",
    "\"\"\""
   ]
  },
  {
   "cell_type": "markdown",
   "id": "890acc0d-d860-43ae-b2ea-09f802e7d2fb",
   "metadata": {},
   "source": [
    "__5. Taking input values__"
   ]
  },
  {
   "cell_type": "code",
   "execution_count": 1,
   "id": "12bcf783-c01f-4813-a222-120346b06566",
   "metadata": {},
   "outputs": [
    {
     "name": "stdin",
     "output_type": "stream",
     "text": [
      "What is your name? wooseok\n"
     ]
    },
    {
     "name": "stdout",
     "output_type": "stream",
     "text": [
      "wooseok\n"
     ]
    }
   ],
   "source": [
    "your_name = input('What is your name?')\n",
    "print(your_name)"
   ]
  },
  {
   "cell_type": "code",
   "execution_count": 7,
   "id": "da1cf962-689c-4792-a8ac-79431c2cf9cb",
   "metadata": {},
   "outputs": [
    {
     "name": "stdin",
     "output_type": "stream",
     "text": [
      "How old are you? 60\n"
     ]
    },
    {
     "name": "stdout",
     "output_type": "stream",
     "text": [
      "60 <class 'str'>\n"
     ]
    }
   ],
   "source": [
    "your_age = input('How old are you?')\n",
    "print(your_age, type(your_age))"
   ]
  },
  {
   "cell_type": "code",
   "execution_count": 5,
   "id": "3b28ff90-c559-4b63-a2d5-03ea55ab0bbc",
   "metadata": {},
   "outputs": [
    {
     "name": "stdin",
     "output_type": "stream",
     "text": [
      "How old am I? 20\n"
     ]
    },
    {
     "name": "stdout",
     "output_type": "stream",
     "text": [
      "1720\n"
     ]
    }
   ],
   "source": [
    "my_age = input('How old am I?')\n",
    "print(your_age + my_age)\n",
    "# string concatenation"
   ]
  },
  {
   "cell_type": "code",
   "execution_count": 6,
   "id": "6330a52d-2a70-44fa-9d24-3edd3263ea0f",
   "metadata": {},
   "outputs": [
    {
     "name": "stdout",
     "output_type": "stream",
     "text": [
      "37\n"
     ]
    },
    {
     "data": {
      "text/plain": [
       "21"
      ]
     },
     "execution_count": 6,
     "metadata": {},
     "output_type": "execute_result"
    }
   ],
   "source": [
    "# Turning string value to integer\n",
    "print((int(your_age)+int(my_age)))\n",
    "int(21.8)\n",
    "# int fuction converts strings and floating numbers into integers"
   ]
  },
  {
   "cell_type": "code",
   "execution_count": 8,
   "id": "d9a1cd12-2c8a-4a70-a5b4-d50dd484f06e",
   "metadata": {},
   "outputs": [
    {
     "name": "stdout",
     "output_type": "stream",
     "text": [
      "80.0\n"
     ]
    }
   ],
   "source": [
    "print(float(your_age) + float(my_age))"
   ]
  },
  {
   "cell_type": "markdown",
   "id": "2c74fff1-fc3a-41ca-b009-8f790e946852",
   "metadata": {},
   "source": [
    "__6. If clause and comparison operators__"
   ]
  },
  {
   "cell_type": "markdown",
   "id": "08cf34bb-1bf3-4c54-9d38-e6ad6ebf0549",
   "metadata": {},
   "source": [
    "[Comparison operators]\n",
    " - x > y: x is greater than y\n",
    " - x < y: x is less than y\n",
    " - x >= y: x is greater than or equal to y\n",
    " - x <= y: x is less than or equal to y\n",
    " - x == y: x is equal to y\n",
    " - x != y: x is not equal to y"
   ]
  },
  {
   "cell_type": "markdown",
   "id": "e0e432ce-1023-4f77-9e24-73e213737e7f",
   "metadata": {},
   "source": [
    "[If clause]\n",
    " - if: performs an action if a condition is met (True) and no action if not.\n",
    " - if...else: some as above and returns altermative action if not."
   ]
  },
  {
   "cell_type": "code",
   "execution_count": 3,
   "id": "013e4a55-e3b2-4ffc-9312-5373697dd014",
   "metadata": {},
   "outputs": [
    {
     "name": "stdin",
     "output_type": "stream",
     "text": [
      "Enter an integer \n"
     ]
    },
    {
     "ename": "ValueError",
     "evalue": "invalid literal for int() with base 10: ''",
     "output_type": "error",
     "traceback": [
      "\u001b[1;31m---------------------------------------------------------------------------\u001b[0m",
      "\u001b[1;31mValueError\u001b[0m                                Traceback (most recent call last)",
      "\u001b[1;32m~\\AppData\\Local\\Temp/ipykernel_23492/1142812613.py\u001b[0m in \u001b[0;36m<module>\u001b[1;34m\u001b[0m\n\u001b[1;32m----> 1\u001b[1;33m \u001b[0mx\u001b[0m \u001b[1;33m=\u001b[0m \u001b[0mint\u001b[0m\u001b[1;33m(\u001b[0m\u001b[0minput\u001b[0m\u001b[1;33m(\u001b[0m\u001b[1;34m\"Enter an integer\"\u001b[0m\u001b[1;33m)\u001b[0m\u001b[1;33m)\u001b[0m\u001b[1;33m\u001b[0m\u001b[1;33m\u001b[0m\u001b[0m\n\u001b[0m\u001b[0;32m      2\u001b[0m \u001b[1;33m\u001b[0m\u001b[0m\n\u001b[0;32m      3\u001b[0m \u001b[1;32mif\u001b[0m \u001b[0mx\u001b[0m\u001b[1;33m==\u001b[0m\u001b[1;36m1\u001b[0m\u001b[1;33m:\u001b[0m  \u001b[1;31m#if-clause\u001b[0m\u001b[1;33m\u001b[0m\u001b[1;33m\u001b[0m\u001b[0m\n\u001b[0;32m      4\u001b[0m     \u001b[0mprint\u001b[0m\u001b[1;33m(\u001b[0m\u001b[1;34m\"x has a value of 1\"\u001b[0m\u001b[1;33m)\u001b[0m\u001b[1;33m\u001b[0m\u001b[1;33m\u001b[0m\u001b[0m\n\u001b[0;32m      5\u001b[0m \u001b[1;32melse\u001b[0m\u001b[1;33m:\u001b[0m\u001b[1;33m\u001b[0m\u001b[1;33m\u001b[0m\u001b[0m\n",
      "\u001b[1;31mValueError\u001b[0m: invalid literal for int() with base 10: ''"
     ]
    }
   ],
   "source": [
    "x = int(input(\"Enter an integer\"))\n",
    "\n",
    "if x==1:  #if-clause\n",
    "    print(\"x has a value of 1\")\n",
    "else:\n",
    "    print(\"x does not have a value of 1\")\n",
    "    \n",
    "var1 = int(input('Enter the first integer'))\n",
    "if var1 < 0:\n",
    "    print('The first integer is',var1,'and its value is nagative')\n",
    "\n",
    "var2 = int(input('Enter the second integer'))\n",
    "if var2 < 0:\n",
    "    print('The second integer is negative', 'and its value is ',var2)\n",
    "else:\n",
    "    print('The second integer is positive', 'and its value is ', var2)\n"
   ]
  },
  {
   "cell_type": "markdown",
   "id": "2fd9f77c-30c9-4720-b33a-6c04983c6f42",
   "metadata": {},
   "source": [
    "__7. Dynamic value assignment and type changing__"
   ]
  },
  {
   "cell_type": "markdown",
   "id": "3147e879-89df-44e5-bd12-3d06fee68e50",
   "metadata": {},
   "source": [
    " - What happens if you assign different values for the same variable?"
   ]
  },
  {
   "cell_type": "code",
   "execution_count": 9,
   "id": "2525394e-be46-4851-b87b-162a69ce87ba",
   "metadata": {},
   "outputs": [
    {
     "name": "stdout",
     "output_type": "stream",
     "text": [
      "Arnold <class 'str'>\n",
      "2.5 <class 'float'>\n",
      "Arnold <class 'str'>\n"
     ]
    }
   ],
   "source": [
    "print(x, type(x))\n",
    "\n",
    "x = 2.5\n",
    "print(x, type(x))\n",
    "\n",
    "x = 'Arnold'\n",
    "print(x, type(x))"
   ]
  },
  {
   "cell_type": "markdown",
   "id": "5999cd2f-3b42-4818-8053-e7362455db45",
   "metadata": {},
   "source": [
    " - 위를 통해서 기본 파이썬은 변수의 '값'뿐만 아니라 '데이터타입'에 대한 정보를 모두 저장한다는 것을 알 수 있다!\n"
   ]
  },
  {
   "cell_type": "markdown",
   "id": "38bab0f5-42e2-49e8-a79f-ba04d38d3845",
   "metadata": {},
   "source": [
    "__8. Multiple statements on a single line__\n",
    "\n",
    " - Separate two command lines with semicolon"
   ]
  },
  {
   "cell_type": "code",
   "execution_count": 10,
   "id": "80c41a17-2152-4ae9-9ba8-91604eb16c7d",
   "metadata": {},
   "outputs": [
    {
     "name": "stdout",
     "output_type": "stream",
     "text": [
      "Hello\n",
      "This is KOOC content \n",
      "for Python basics.\n"
     ]
    }
   ],
   "source": [
    "print(\"Hello\"); print(\"This is KOOC content \\nfor Python basics.\")"
   ]
  }
 ],
 "metadata": {
  "kernelspec": {
   "display_name": "Python 3 (ipykernel)",
   "language": "python",
   "name": "python3"
  },
  "language_info": {
   "codemirror_mode": {
    "name": "ipython",
    "version": 3
   },
   "file_extension": ".py",
   "mimetype": "text/x-python",
   "name": "python",
   "nbconvert_exporter": "python",
   "pygments_lexer": "ipython3",
   "version": "3.8.12"
  }
 },
 "nbformat": 4,
 "nbformat_minor": 5
}
