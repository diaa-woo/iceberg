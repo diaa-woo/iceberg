{
 "cells": [
  {
   "cell_type": "markdown",
   "id": "136e3742-eef7-4682-a26b-1f8e55a1aded",
   "metadata": {},
   "source": [
    "## Python: Creating Functions\n",
    "\n",
    " - Built-in functions: int, float, print, input, type, sum, etc.\n",
    " - Now we learn how to build your own custom functions, performing specific tasks.\n",
    " - A function starts with the keyword, <b>def</b>, which is <b>followed by its name starting with a lowercast letter.</b> You may use <b>underscores</b> to separate words in name, say, circle_area_circum. It is recommended to put <b>docstring</b>, explaining the purpose of a function, right below the definition of a function.\n",
    " - At the end we learn random number generation and importing libraries.\n",
    " \n",
    "__1. Creating your own functions with a single parameter__"
   ]
  },
  {
   "cell_type": "code",
   "execution_count": 12,
   "id": "499381e4-fa4e-458c-bd41-a59c1c9a22f9",
   "metadata": {},
   "outputs": [],
   "source": [
    "# Calculating the area and circumference of a circle\n",
    "import math # importing math module of Python for using pi\n",
    "\n",
    "def circle(radius):  # defining a function called circle\n",
    "    \"\"\"Calculates area and circumference of a circle with a radius\"\"\"\n",
    "    \n",
    "    return math.pi*radius**2, 2*math.pi*radius  # End of a function"
   ]
  },
  {
   "cell_type": "code",
   "execution_count": 4,
   "id": "d0358001-53bb-40cf-a389-28bfefb36ab3",
   "metadata": {},
   "outputs": [
    {
     "data": {
      "text/plain": [
       "(28.274333882308138, 18.84955592153876)"
      ]
     },
     "execution_count": 4,
     "metadata": {},
     "output_type": "execute_result"
    }
   ],
   "source": [
    "# calling a function and offering a radius value\n",
    "circle(3)"
   ]
  },
  {
   "cell_type": "code",
   "execution_count": 9,
   "id": "d5c7d0df-edea-49e7-9b51-9ab1dfc78456",
   "metadata": {},
   "outputs": [
    {
     "name": "stdout",
     "output_type": "stream",
     "text": [
      "The area and circumference of a circle with 3cm radius are 28.27cm squared and 18.85cm. \n"
     ]
    }
   ],
   "source": [
    "# Function calls can be embedded.\n",
    "x = 3\n",
    "print(f'The area and circumference of a circle with {x}cm radius \\\n",
    "are {circle(x)[0]:.2f}cm squared and {circle(x)[1]:.2f}cm. ')"
   ]
  },
  {
   "cell_type": "code",
   "execution_count": 16,
   "id": "301c1914-62bd-4fc0-a921-c90296a8c755",
   "metadata": {},
   "outputs": [
    {
     "data": {
      "text/plain": [
       "<function __main__.circle(radius)>"
      ]
     },
     "execution_count": 16,
     "metadata": {},
     "output_type": "execute_result"
    }
   ],
   "source": [
    "# Looking up a functions's docstring\n",
    "circle #? 물음표인데 오류뜸;;"
   ]
  },
  {
   "cell_type": "markdown",
   "id": "4f84c519-177e-4076-a842-32d123303864",
   "metadata": {},
   "source": [
    "__2. Creating functions with multiple parameters__"
   ]
  },
  {
   "cell_type": "code",
   "execution_count": 18,
   "id": "49a5c2bf-f2b8-4c59-8b1b-35fb83c1f213",
   "metadata": {},
   "outputs": [],
   "source": [
    "# parameters, x and y, are comma separated and called local variables.\n",
    "def myfunction(x, y):\n",
    "    \"\"\"addition, multiplication and division\"\"\"\n",
    "    \n",
    "    return x+y, x*y, x/y"
   ]
  },
  {
   "cell_type": "code",
   "execution_count": 20,
   "id": "5ceae43f-b33a-442d-814a-2adf14b48c0b",
   "metadata": {},
   "outputs": [
    {
     "data": {
      "text/plain": [
       "(18, 45, 5.0)"
      ]
     },
     "execution_count": 20,
     "metadata": {},
     "output_type": "execute_result"
    }
   ],
   "source": [
    "myfunction(15, 3)"
   ]
  },
  {
   "cell_type": "code",
   "execution_count": 22,
   "id": "35593069-4791-4ddb-9167-ae01d0ccd60c",
   "metadata": {},
   "outputs": [],
   "source": [
    "# A function without parameters\n",
    "\n",
    "def findmin():\n",
    "    \"\"\"Finding the minimum among three integers\"\"\"\n",
    "    \n",
    "    x=int(input(\"Enter first integer: \"))\n",
    "    y=int(input(\"Enter Second integer: \"))\n",
    "    z=int(input(\"Enter Third integer: \"))\n",
    "    \n",
    "    minimum = x\n",
    "    if y < minimum:\n",
    "        minimum = y\n",
    "    if z < minimum:\n",
    "        minimum = z\n",
    "    return minimum"
   ]
  },
  {
   "cell_type": "code",
   "execution_count": 24,
   "id": "bed0a651-d253-4fd2-b374-07e16ac488b7",
   "metadata": {},
   "outputs": [
    {
     "name": "stdin",
     "output_type": "stream",
     "text": [
      "Enter first integer:  454\n",
      "Enter Second integer:  52\n",
      "Enter Third integer:  42\n"
     ]
    },
    {
     "data": {
      "text/plain": [
       "42"
      ]
     },
     "execution_count": 24,
     "metadata": {},
     "output_type": "execute_result"
    }
   ],
   "source": [
    "findmin()"
   ]
  },
  {
   "cell_type": "code",
   "execution_count": 27,
   "id": "41a939da-25ce-4cf9-8230-6e993bf948f9",
   "metadata": {},
   "outputs": [],
   "source": [
    "def findmin1(x, y, z):\n",
    "    \"\"\"Another function for finding a minimum\"\"\"\n",
    "    \n",
    "    return min(x, y, z)"
   ]
  },
  {
   "cell_type": "code",
   "execution_count": 29,
   "id": "7d82ddd7-eb08-400c-bc05-74e303d8b921",
   "metadata": {},
   "outputs": [
    {
     "name": "stdout",
     "output_type": "stream",
     "text": [
      "7\n",
      "3\n"
     ]
    }
   ],
   "source": [
    "print(findmin1(7,8,9))\n",
    "print(x) # printing a global variable, x"
   ]
  },
  {
   "cell_type": "code",
   "execution_count": 32,
   "id": "b34e39a0-6397-4350-88dc-c4a67141ddcf",
   "metadata": {},
   "outputs": [
    {
     "name": "stdout",
     "output_type": "stream",
     "text": [
      "Minimum is 8.\n"
     ]
    }
   ],
   "source": [
    "print(f'Minimum is {findmin1(10, 8, 9)}.')"
   ]
  },
  {
   "cell_type": "markdown",
   "id": "6a0f3419-5cfa-4a7d-aae1-0955fbba785a",
   "metadata": {},
   "source": [
    "__3. Functions with default parameter values__"
   ]
  },
  {
   "cell_type": "code",
   "execution_count": 34,
   "id": "4d6cdd48-108d-48df-9cae-636d591f6428",
   "metadata": {},
   "outputs": [],
   "source": [
    "def rectangle(width=3, height=5):\n",
    "    \"\"\"Calculating the area of a rectangle\"\"\"\n",
    "    \n",
    "    return width*height"
   ]
  },
  {
   "cell_type": "code",
   "execution_count": 36,
   "id": "ebd44979-f666-4a2e-a448-217f3b288128",
   "metadata": {},
   "outputs": [
    {
     "name": "stdout",
     "output_type": "stream",
     "text": [
      "15 25 20\n"
     ]
    }
   ],
   "source": [
    "print(rectangle(), rectangle(5), rectangle(4,5))"
   ]
  },
  {
   "cell_type": "code",
   "execution_count": 38,
   "id": "e6edb0fa-40a7-4663-8303-a85062d4b342",
   "metadata": {},
   "outputs": [
    {
     "name": "stdout",
     "output_type": "stream",
     "text": [
      "12 42\n"
     ]
    }
   ],
   "source": [
    "print(rectangle(height=4), rectangle(height=6, width=7))"
   ]
  },
  {
   "cell_type": "markdown",
   "id": "4eaaabf0-8e3b-44f7-b726-8f02a2e1caf1",
   "metadata": {},
   "source": [
    "__4. A function taking an arbitrary number of argument__"
   ]
  },
  {
   "cell_type": "code",
   "execution_count": 40,
   "id": "9c793b29-82fd-4092-8de5-9fa30d159b51",
   "metadata": {},
   "outputs": [],
   "source": [
    "def my_average(*nums):\n",
    "    \"\"\"Calculating average with multiple numbers\"\"\"\n",
    "    \n",
    "    return sum(nums)/len(nums)"
   ]
  },
  {
   "cell_type": "code",
   "execution_count": 42,
   "id": "6da28c77-b950-4db5-abb1-390f4c5e4a02",
   "metadata": {},
   "outputs": [
    {
     "data": {
      "text/plain": [
       "58.6"
      ]
     },
     "execution_count": 42,
     "metadata": {},
     "output_type": "execute_result"
    }
   ],
   "source": [
    "my_average(68, 23, 45, 67, 90)"
   ]
  },
  {
   "cell_type": "code",
   "execution_count": 44,
   "id": "480d4b31-8305-4dff-a9c3-aaaf91cd71c5",
   "metadata": {},
   "outputs": [
    {
     "data": {
      "text/plain": [
       "5.5"
      ]
     },
     "execution_count": 44,
     "metadata": {},
     "output_type": "execute_result"
    }
   ],
   "source": [
    "grades = [1,2,3,4,5,6,7,8,9,10]\n",
    "my_average(*grades)"
   ]
  },
  {
   "cell_type": "markdown",
   "id": "05cb4cdc-8a65-4078-b7bd-b5d975ac00cd",
   "metadata": {},
   "source": [
    "__5. Main function and \"_ _ name _ _\" variable__\n",
    " \n",
    " - The main function is the point of executing a python program.\n",
    " - It works only when the program is executed directly (i.e., as a Python script, not as a module imported in other scripts).\n",
    " - The name variable is a special variable of Python, evaluating the name of current program.\n",
    " - It also takes \"__main __\" when a script is executed directly"
   ]
  },
  {
   "cell_type": "markdown",
   "id": "d7da96f4-a78f-4482-8d1f-1b80c311f63a",
   "metadata": {},
   "source": [
    "def main(x):\n",
    "    \"\"\"An excercise of main function\"\"\"\n",
    "    print(f'The area and circumference of a circle with {x}cm radius \\\n",
    "    are {circle(x)[0]:.2f}cm squared and {circle(x)[1]:.3f}cm.')\n",
    "    print('Main function is executed!')\n",
    "    \n",
    "if __name__ == '__main__':\n",
    "    main(3)"
   ]
  },
  {
   "cell_type": "code",
   "execution_count": 51,
   "id": "98be6f0d-2be5-48ac-ba5d-610a6552b8c4",
   "metadata": {},
   "outputs": [
    {
     "name": "stdout",
     "output_type": "stream",
     "text": [
      "The area and circumference of a circle with 5cm radius     are 78.54cm squared and 31.416cm.\n",
      "Main function is executed!\n"
     ]
    },
    {
     "data": {
      "text/plain": [
       "'__main__'"
      ]
     },
     "execution_count": 51,
     "metadata": {},
     "output_type": "execute_result"
    }
   ],
   "source": [
    "def hwan(x):\n",
    "    \"\"\"An excercise of main function\"\"\"\n",
    "    print(f'The area and circumference of a circle with {x}cm radius \\\n",
    "    are {circle(x)[0]:.2f}cm squared and {circle(x)[1]:.3f}cm.')\n",
    "    print('Main function is executed!')\n",
    "    \n",
    "hwan(5); __name__"
   ]
  },
  {
   "cell_type": "code",
   "execution_count": 53,
   "id": "411a7347-c2c9-4010-a213-066476aa43c3",
   "metadata": {},
   "outputs": [],
   "source": [
    "# When a source file is run as a main program, the source file program has the name, __main.\n",
    "# And if clause becomes True and the main function is executed.\n",
    "# %run 'file_name' or %run -i 'file_name'\n",
    "# !python 'file_name'"
   ]
  },
  {
   "cell_type": "markdown",
   "id": "ec237b65-17a3-4138-b3e4-04ca9f876585",
   "metadata": {},
   "source": [
    "__6. Python standart libraries__\n",
    "\n",
    " - https://docs.python.org/3/library/\n",
    " - popular ones are are math, random, csv, decimal, datetime, json, statistices, etc\n",
    " - Math module: https://docs.python.org/3/library/math.html"
   ]
  },
  {
   "cell_type": "markdown",
   "id": "9d32e3ae-86f7-4643-9cb1-decea805c376",
   "metadata": {},
   "source": [
    "__7. Using tab key for completing identifiers__\n",
    "\n",
    " - <b>ma+Tab</b> key will show a list of identifiers starting with 'ma'\n",
    " - <b>Looking up functions</b> in a library with Tab key, e.g., <b>math.Tab</b> key. There are functions are in library(constants).\n",
    " - <b>Questioning a function</b> with the question mark, <b>?</b>."
   ]
  },
  {
   "cell_type": "code",
   "execution_count": 56,
   "id": "b08ea2a5-9a46-402e-a7c7-744701306a89",
   "metadata": {},
   "outputs": [
    {
     "data": {
      "text/plain": [
       "\u001b[1;31mSignature:\u001b[0m \u001b[0mmath\u001b[0m\u001b[1;33m.\u001b[0m\u001b[0mfabs\u001b[0m\u001b[1;33m(\u001b[0m\u001b[0mx\u001b[0m\u001b[1;33m,\u001b[0m \u001b[1;33m/\u001b[0m\u001b[1;33m)\u001b[0m\u001b[1;33m\u001b[0m\u001b[1;33m\u001b[0m\u001b[0m\n",
       "\u001b[1;31mDocstring:\u001b[0m Return the absolute value of the float x.\n",
       "\u001b[1;31mType:\u001b[0m      builtin_function_or_method\n"
      ]
     },
     "metadata": {},
     "output_type": "display_data"
    }
   ],
   "source": [
    "math.fabs?"
   ]
  },
  {
   "cell_type": "markdown",
   "id": "5ec51c86-ab94-4e0d-93ba-66b1338c14e5",
   "metadata": {},
   "source": [
    "__8. Methods in Python__\n",
    "\n",
    " - Methods are functions you can call on your object.\n",
    " - <b>syntax</b>: Your_object_name.<b>method_name(arguments)</b>."
   ]
  },
  {
   "cell_type": "code",
   "execution_count": 58,
   "id": "4a6f9d1e-186d-4507-a10e-f35c68250558",
   "metadata": {},
   "outputs": [
    {
     "name": "stdout",
     "output_type": "stream",
     "text": [
      "hwang wooseok HWANG WOOSEOK Hwang Wooseok\n"
     ]
    }
   ],
   "source": [
    "my_name = 'Hwang Wooseok'\n",
    "print(my_name.lower(), my_name.upper(), my_name)"
   ]
  },
  {
   "cell_type": "markdown",
   "id": "3c6af0f4-6a81-4a48-a211-435100f863a4",
   "metadata": {},
   "source": [
    "__8. Random number generation in Python__"
   ]
  },
  {
   "cell_type": "code",
   "execution_count": 60,
   "id": "c22455ee-2d79-48ec-a161-89f54bb70345",
   "metadata": {},
   "outputs": [
    {
     "name": "stdout",
     "output_type": "stream",
     "text": [
      "1 6 4 2 3 6 3 4 1 2 "
     ]
    }
   ],
   "source": [
    "# importing random module\n",
    "import random\n",
    "\n",
    "for roll in range(10):  # Extracting ten random numbers in [1 and 6].\n",
    "    print(random.randrange(1, 7), end=' ')\n",
    "# randrange built-in function generates integers within a range"
   ]
  },
  {
   "cell_type": "code",
   "execution_count": 79,
   "id": "9bcadfd7-375b-47ff-a1e3-3df50e95069a",
   "metadata": {},
   "outputs": [
    {
     "name": "stdout",
     "output_type": "stream",
     "text": [
      "Face    Frequency     Ratio\n",
      "   0         4917     49.17\n",
      "   1         5083     50.83\n"
     ]
    }
   ],
   "source": [
    "### Roll a coin 10,000 times ###\n",
    "\n",
    "frequency0 = 0\n",
    "frequency1 = 0\n",
    "sample = 10_000 # 숫자 천단위 구분\n",
    "\n",
    "for roll in range(sample):\n",
    "    face = random.randrange(0,2)\n",
    "    if face == 0:\n",
    "        frequency0 += 1\n",
    "    else:\n",
    "        frequency1 += 1\n",
    "        \n",
    "print(f'{\"Face\"}{\"Frequency\":>13}{\"Ratio\":>10}')\n",
    "print(f'{0:>4}{frequency0:>13}{frequency0/sample*100:>10.2f}')\n",
    "print(f'{1:>4}{frequency1:>13}{frequency1/sample*100:>10.2f}')\n",
    "# A tip for f-string use\n",
    "# for right alignment, use >.\n",
    "# for left alignment, use <."
   ]
  },
  {
   "cell_type": "code",
   "execution_count": 92,
   "id": "d49028be-c9ee-46a7-8e34-3940a6416f64",
   "metadata": {},
   "outputs": [
    {
     "name": "stdout",
     "output_type": "stream",
     "text": [
      "3 6 3 1 2 1 2 3 6 3 \n",
      "6 6 4 5 2 2 2 6 2 1 "
     ]
    }
   ],
   "source": [
    "# Using seed function to generate the same random numbers\n",
    "random.seed(20191215)  # seed 설정 시 값이 고정됨!\n",
    "\n",
    "for roll in range(10):\n",
    "    print(random.randrange(1, 7), end = ' ')\n",
    "    \n",
    "print()\n",
    "for roll in range(10):\n",
    "    print(random.randrange(1, 7), end = ' ')"
   ]
  },
  {
   "cell_type": "code",
   "execution_count": 93,
   "id": "5da74254-b9c9-4203-84ca-9c8bac1bd800",
   "metadata": {},
   "outputs": [
    {
     "name": "stdout",
     "output_type": "stream",
     "text": [
      "4 4 5 6 6 6 6 5 2 4 "
     ]
    }
   ],
   "source": [
    "for roll in range(10):\n",
    "    print(random.randrange(1, 7), end = ' ')"
   ]
  },
  {
   "cell_type": "markdown",
   "id": "b5f52bef-cf65-4092-ba7c-be90151b5f50",
   "metadata": {},
   "source": [
    "__9. Importing libraries and modules in Python__\n",
    "\n",
    " - <b>importing library_name</b>(import math, to use functions math.pi)\n",
    " - <b>importing specific functions or constants of a library</b> (from math import ceil sum --> you can just use imported function or instance names)\n",
    " - importing a library with <b>an abbreviated name</b> (import statistics as stat, stat.mean())"
   ]
  },
  {
   "cell_type": "code",
   "execution_count": 95,
   "id": "bd60f14a-a2a3-4e3b-9db5-125666006b01",
   "metadata": {},
   "outputs": [
    {
     "name": "stdout",
     "output_type": "stream",
     "text": [
      "3.141592653589793 10 9\n",
      "4\n"
     ]
    }
   ],
   "source": [
    "# import math\n",
    "from math import ceil, floor, pi  # 이렇게 불러올 때의 이점은 클래스 명을 기입하지 않아도 됨!(바로 함수명 사용 가능)\n",
    "import statistics as stat\n",
    "\n",
    "print(pi, ceil(9.8), floor(9.8))  # pi: perimeter, ceil: Sincerely, floor: fall(mathematically)\n",
    "x = [3,4,5]\n",
    "print(stat.mean(x))"
   ]
  }
 ],
 "metadata": {
  "kernelspec": {
   "display_name": "Python 3 (ipykernel)",
   "language": "python",
   "name": "python3"
  },
  "language_info": {
   "codemirror_mode": {
    "name": "ipython",
    "version": 3
   },
   "file_extension": ".py",
   "mimetype": "text/x-python",
   "name": "python",
   "nbconvert_exporter": "python",
   "pygments_lexer": "ipython3",
   "version": "3.9.7"
  }
 },
 "nbformat": 4,
 "nbformat_minor": 5
}
