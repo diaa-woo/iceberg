{
 "cells": [
  {
   "cell_type": "markdown",
   "id": "08dc977b-a11b-4b82-8b8e-80bdea327fc7",
   "metadata": {},
   "source": [
    "## Python: Control Statements"
   ]
  },
  {
   "cell_type": "markdown",
   "id": "7bef584d-e8c7-41d6-9290-a44ca51d831b",
   "metadata": {},
   "source": [
    " - Control statements: if...elif...else, while, for, break and continue\n",
    " - Additionally, we learn formatted strings, augmented assignments"
   ]
  },
  {
   "cell_type": "markdown",
   "id": "9e6d741b-ff67-4d73-8d48-06960692531f",
   "metadata": {},
   "source": [
    "__1. if...elif...else__"
   ]
  },
  {
   "cell_type": "code",
   "execution_count": null,
   "id": "fec0cff6-97bf-41ef-9c57-d5e9105031fb",
   "metadata": {},
   "outputs": [],
   "source": [
    "# Classifying weight categories\n",
    "weight = int(input('Type your weight.'))\n",
    "\n",
    "if weight >= 90:\n",
    "    print('fat!', 'Exercise!')\n",
    "elif weight >= 60:  #Out of range in if range\n",
    "    print('normal')\n",
    "else:\n",
    "    print('thin','Eat more!')"
   ]
  },
  {
   "cell_type": "code",
   "execution_count": null,
   "id": "3489719d-693a-4966-8224-7e7e5f378b13",
   "metadata": {},
   "outputs": [],
   "source": [
    "# Converting total grades into letter grades\n",
    "\n",
    "grade = float(input('Enter a grade'))\n",
    "\n",
    "if grade >= 90:\n",
    "    print('A')\n",
    "if 90 > grade >= 80:\n",
    "    print('B')\n",
    "if 80 > grade >= 70:\n",
    "    print('C')\n",
    "if 70 > grade >= 60:\n",
    "    print('D')\n",
    "if grade < 60:\n",
    "    print('F')"
   ]
  },
  {
   "cell_type": "code",
   "execution_count": 1,
   "id": "b83efee5-e6c7-4633-b7e2-6e3c42447467",
   "metadata": {},
   "outputs": [
    {
     "name": "stdin",
     "output_type": "stream",
     "text": [
      "Enter a grade 65\n"
     ]
    },
    {
     "name": "stdout",
     "output_type": "stream",
     "text": [
      "D\n"
     ]
    }
   ],
   "source": [
    "grade1 = int(input('Enter a grade'))\n",
    "\n",
    "if grade1 >= 90:\n",
    "    print('A')\n",
    "elif grade1 >= 80:\n",
    "    print('B')\n",
    "elif grade1 >= 70:\n",
    "    print('C')\n",
    "elif grade1 >= 60:\n",
    "    print('D')\n",
    "else:\n",
    "    print('F')\n",
    "\n",
    "# This is faster than the case above."
   ]
  },
  {
   "cell_type": "code",
   "execution_count": 3,
   "id": "5d22a880-36d5-4852-9f06-3de61c7aad3e",
   "metadata": {},
   "outputs": [
    {
     "name": "stdin",
     "output_type": "stream",
     "text": [
      "Type your weight in kg 65\n",
      "Type your height in cm 170\n"
     ]
    },
    {
     "name": "stdout",
     "output_type": "stream",
     "text": [
      "normal\n"
     ]
    }
   ],
   "source": [
    "# Using a more complex conditions with Boolean operators\n",
    "\n",
    "weight = int(input('Type your weight in kg'))\n",
    "height = int(input('Type your height in cm'))\n",
    "\n",
    "if weight >= 90 and height <= 150:\n",
    "    print('fat!', 'Exercise!')\n",
    "elif weight >= 60 or 160 <= height <180:\n",
    "    print('normal')\n",
    "else:\n",
    "    print('thin!')\n",
    "    print('Eat more!')\n",
    "    "
   ]
  },
  {
   "cell_type": "markdown",
   "id": "2c3cb68f-2ec4-4a60-a1c8-54a4092690fd",
   "metadata": {},
   "source": [
    "__2. While statement__\n",
    "\n",
    " - Iteration, repeating the same suite, continues as long as a condition remains true\n",
    "  - Sentinel-controlled iteration: repeats until a sentinal(flag, signal) value appears."
   ]
  },
  {
   "cell_type": "code",
   "execution_count": 5,
   "id": "56255e72-f423-4431-92fb-e5ee4ae92ccf",
   "metadata": {},
   "outputs": [
    {
     "name": "stdout",
     "output_type": "stream",
     "text": [
      "2\n",
      "4\n",
      "8\n",
      "16\n",
      "32\n",
      "64\n",
      "128\n"
     ]
    }
   ],
   "source": [
    "# Calculation powers of 2\n",
    "k = 1 #initializing k\n",
    "\n",
    "while k <= 100:\n",
    "    k = k*2\n",
    "    print(k) # Depending on indentation Level, outcome changes"
   ]
  },
  {
   "cell_type": "code",
   "execution_count": 7,
   "id": "9a4ebdfb-a851-41f9-a032-b2885a09b2ce",
   "metadata": {},
   "outputs": [
    {
     "name": "stdout",
     "output_type": "stream",
     "text": [
      "9 8 7 6 5 4 3 2 1 0 "
     ]
    }
   ],
   "source": [
    "# Subtractiong 1 repeatedly\n",
    "l = 10\n",
    "while l > 0:\n",
    "    l = l - 1\n",
    "    print(l, end = ' ') # printing horizontally"
   ]
  },
  {
   "cell_type": "code",
   "execution_count": 9,
   "id": "22447806-9697-4c2a-9ca7-14d81d9d8482",
   "metadata": {},
   "outputs": [
    {
     "name": "stdin",
     "output_type": "stream",
     "text": [
      "Enter grade or -1 to end:  84\n",
      "Enter grade or -1 to end:  89\n",
      "Enter grade or -1 to end:  68\n",
      "Enter grade or -1 to end:  -1\n"
     ]
    },
    {
     "name": "stdout",
     "output_type": "stream",
     "text": [
      "Total grade is 241\n",
      "The number of students is 3\n",
      "Class Average is 80.33333333333333\n"
     ]
    }
   ],
   "source": [
    "# Calculating the class average grade of an arbitrary number of students\n",
    "total = 0\n",
    "counter = 0\n",
    "\n",
    "# Taking grades\n",
    "grade = int(input('Enter grade or -1 to end: '))\n",
    "\n",
    "while grade != -1:\n",
    "    total += grade\n",
    "    counter += 1\n",
    "    grade = int(input('Enter grade or -1 to end: '))\n",
    "\n",
    "# cacluating the average and printing results\n",
    "if counter != 0: \n",
    "    average = total/counter\n",
    "    print('Total grade is', total)\n",
    "    print('The number of students is', counter)\n",
    "    print(f'Class Average is {average}') # a formatted string\n",
    "else:\n",
    "    print('No grades were entered')\n",
    "    \n",
    "# Formatted String inserts values in a string.\n",
    "# The curly bracket { } converts the average value to a string"
   ]
  },
  {
   "cell_type": "markdown",
   "id": "435bd2ba-d083-4d24-b64e-e617b1a470b3",
   "metadata": {},
   "source": [
    "__3. For loop for iteration__\n",
    "\n",
    " - Collection based iteration\n",
    " - Repeat actions for each item in a sequence of items"
   ]
  },
  {
   "cell_type": "code",
   "execution_count": 3,
   "id": "9f1a2d03-dec4-4d8f-8444-e5b1b8229c2c",
   "metadata": {},
   "outputs": [
    {
     "name": "stdout",
     "output_type": "stream",
     "text": [
      "item : 1\n",
      "item : 2\n",
      "item : 3\n",
      "item : 4\n",
      "item : 5\n",
      "letters : A\n",
      "letters : B\n",
      "letters : C\n",
      "letters : D\n"
     ]
    }
   ],
   "source": [
    "for item in [1,2,3,4,5]:  # The list is a collection\n",
    "    print(\"item :\", item)\n",
    "    \n",
    "letters = ['A', 'B', 'C', 'D']\n",
    "for i in letters:\n",
    "    print(\"letters :\", i)"
   ]
  },
  {
   "cell_type": "markdown",
   "id": "ba0b452b-7f9c-4ccc-b0c0-0d92375a6cc1",
   "metadata": {},
   "source": [
    " - for: 주어진 정보를 순차적으로 접근하며, 고갈시 반복 종료됨\n",
    " - while: 조건이 충족되는 한 반복"
   ]
  },
  {
   "cell_type": "code",
   "execution_count": 5,
   "id": "95e249a6-5401-41bd-8698-d1f6f6295e48",
   "metadata": {},
   "outputs": [
    {
     "name": "stdout",
     "output_type": "stream",
     "text": [
      "Each letter : A\n",
      "Each letter : B\n",
      "Each letter : C\n",
      "Each letter : D\n",
      "P y t h o n P r o g r a m m i n \n",
      "25\n"
     ]
    }
   ],
   "source": [
    "for i in range(len(letters)):\n",
    "    print(\"Each letter :\", letters[i])\n",
    "    \n",
    "for i in 'PythonProgrammin':\n",
    "    print(i, end=' ')\n",
    "    \n",
    "print()\n",
    "total = 0\n",
    "for number in [2, -3, 0, 17, 9]:\n",
    "    total = total + number\n",
    "print(total)"
   ]
  },
  {
   "cell_type": "markdown",
   "id": "5e81977f-1071-4ad6-ae50-589fcf1b0972",
   "metadata": {},
   "source": [
    "__4. Augmented assignment__\n",
    "\n",
    " - += : (a += 2) = (a = a + 2)\n",
    " - -= : (a -= 2) = (a = a - 2)\n",
    " - *= : (a *= 2) = (a = a * 2)\n",
    " - **= : (a **= 2) = (a = a ** 2)\n",
    " - /= : (a /= 2) = (a = a / 2)\n",
    " - //= : (a //= 2) = (a = a // 2)\n",
    " - %= : (a %= 2) = (a = a % 2)\n",
    " "
   ]
  },
  {
   "cell_type": "code",
   "execution_count": 8,
   "id": "f5eef41c-0050-45dd-a552-fc8e9c8fe097",
   "metadata": {},
   "outputs": [
    {
     "name": "stdout",
     "output_type": "stream",
     "text": [
      "0 1 2 3 4 5 6 7 8 9 "
     ]
    },
    {
     "data": {
      "text/plain": [
       "45"
      ]
     },
     "execution_count": 8,
     "metadata": {},
     "output_type": "execute_result"
    }
   ],
   "source": [
    "total = 0\n",
    "for i in range(10):  # range creates integers from 0 to the argument value -1.\n",
    "    print(i, end = ' ')\n",
    "    total += i  # addition augmented assignments\n",
    "total     \n",
    "# What if we use sum instead of tatal?  \n",
    "# Shadowing (built-in) functions! Cannot use sum built-in function"
   ]
  },
  {
   "cell_type": "markdown",
   "id": "a488e388-ba27-4d13-ad27-20dc1d31e6b0",
   "metadata": {},
   "source": [
    "__5. Making a for loop with augmented assignments__"
   ]
  },
  {
   "cell_type": "code",
   "execution_count": 12,
   "id": "90e81331-ef5c-481a-98b1-db98e4c78dbd",
   "metadata": {},
   "outputs": [
    {
     "name": "stdout",
     "output_type": "stream",
     "text": [
      "Class average is 81.70\n",
      "Average is 81.70\n"
     ]
    }
   ],
   "source": [
    "# Class average calculation\n",
    "\n",
    "total = 0\n",
    "NumStudents = 0\n",
    "grades = [98, 76, 71, 87, 83, 90, 57, 79, 82, 94]\n",
    "for i in grades:\n",
    "    total += i\n",
    "    NumStudents += 1\n",
    "average = total/NumStudents\n",
    "print(f'Class average is {average:.2f}')\n",
    "print(f'Average is {total/NumStudents:.2f}')\n",
    "# Formatted String:"
   ]
  },
  {
   "cell_type": "markdown",
   "id": "0616ea9c-cce2-4e46-bb01-f3c02462e706",
   "metadata": {},
   "source": [
    "__6. A built-in function, range__"
   ]
  },
  {
   "cell_type": "code",
   "execution_count": 17,
   "id": "45cb1361-4664-41d3-8270-10dd655f57d4",
   "metadata": {},
   "outputs": [
    {
     "name": "stdout",
     "output_type": "stream",
     "text": [
      "7, 8, 9, 10, 11, 12, 13, 14, 15, 16, 17, 18, 19, \n",
      "10, 13, 16, 19, \n",
      "15, 13, 11, 9, 7, 5, 3, 1, "
     ]
    }
   ],
   "source": [
    "# One argument version: above\n",
    "\n",
    "# Two argument version\n",
    "for i in range(7, 20):  # a starting value and an ending value\n",
    "    print(i, end = ', ')\n",
    "\n",
    "print()    \n",
    "\n",
    "# Three argument version\n",
    "for i in range(10, 20, 3):  # the third argument specifies a step of increase\n",
    "    print(i, end = ', ')\n",
    "    \n",
    "print()\n",
    "for i in range(15, 0, -2):\n",
    "    print(i, end = ', ')"
   ]
  },
  {
   "cell_type": "markdown",
   "id": "cd019caf-e8c1-4a52-a4c6-73c1817edf00",
   "metadata": {},
   "source": [
    "__7. Advanced use of while and for loops__\n",
    "\n",
    " - Break: terminates loops immediately.\n",
    " - Continue: terminates loops immediately, jumps to the loop and continues.\n",
    " - In while end for loops, else can be used.\n"
   ]
  },
  {
   "cell_type": "code",
   "execution_count": 19,
   "id": "cb705c9a-1e18-455a-bd93-49b5e0b812a1",
   "metadata": {},
   "outputs": [
    {
     "name": "stdout",
     "output_type": "stream",
     "text": [
      "9 8 7 6 5 4 3 2 1 0 \n",
      "Loop ended 0\n"
     ]
    }
   ],
   "source": [
    "l = 10\n",
    "while l > 0:\n",
    "    l = l - 1\n",
    "    print(l, end = ' ')\n",
    "print()\n",
    "print('Loop ended', l)"
   ]
  },
  {
   "cell_type": "code",
   "execution_count": 21,
   "id": "e128aad7-9662-4228-b36c-8961da134de4",
   "metadata": {},
   "outputs": [
    {
     "name": "stdout",
     "output_type": "stream",
     "text": [
      "9 8 7 6 \n",
      "Loop ended 5\n"
     ]
    }
   ],
   "source": [
    "l = 10\n",
    "while l > 0:\n",
    "    l = l - 1\n",
    "    if l == 5:\n",
    "        break\n",
    "    print(l, end=' ')\n",
    "print()\n",
    "print('Loop ended', l)"
   ]
  },
  {
   "cell_type": "code",
   "execution_count": 23,
   "id": "27f90d60-b721-4a2a-a890-86194028bb2e",
   "metadata": {},
   "outputs": [
    {
     "name": "stdout",
     "output_type": "stream",
     "text": [
      "9 8 7 6 4 3 2 1 0 \n",
      "Loop ended 0\n"
     ]
    }
   ],
   "source": [
    "l = 10\n",
    "while l > 0:\n",
    "    l = l - 1\n",
    "    if l == 5:\n",
    "        continue\n",
    "    print(l, end = ' ')\n",
    "print()\n",
    "print('Loop ended', l)"
   ]
  },
  {
   "cell_type": "code",
   "execution_count": 25,
   "id": "42a184e9-5530-4410-9065-321709352e5e",
   "metadata": {},
   "outputs": [
    {
     "name": "stdout",
     "output_type": "stream",
     "text": [
      "9 8 7 6 5 4 3 2 1 0 Loop ended 0\n"
     ]
    }
   ],
   "source": [
    "l = 10\n",
    "while l > 0:\n",
    "    l = l - 1\n",
    "    print(l, end = ' ')\n",
    "else:\n",
    "    print('Loop ended', l)"
   ]
  },
  {
   "cell_type": "code",
   "execution_count": 26,
   "id": "462b5bfd-2d77-48dd-ad91-700954f6e6a2",
   "metadata": {},
   "outputs": [
    {
     "name": "stdout",
     "output_type": "stream",
     "text": [
      "9 8 7 6 "
     ]
    }
   ],
   "source": [
    "l = 10\n",
    "while l > 0:\n",
    "    l = l - 1\n",
    "    if l == 5:\n",
    "        break\n",
    "    print(l, end = ' ')\n",
    "else:\n",
    "    print('Loop ended', l)"
   ]
  }
 ],
 "metadata": {
  "kernelspec": {
   "display_name": "Python 3 (ipykernel)",
   "language": "python",
   "name": "python3"
  },
  "language_info": {
   "codemirror_mode": {
    "name": "ipython",
    "version": 3
   },
   "file_extension": ".py",
   "mimetype": "text/x-python",
   "name": "python",
   "nbconvert_exporter": "python",
   "pygments_lexer": "ipython3",
   "version": "3.8.12"
  }
 },
 "nbformat": 4,
 "nbformat_minor": 5
}
