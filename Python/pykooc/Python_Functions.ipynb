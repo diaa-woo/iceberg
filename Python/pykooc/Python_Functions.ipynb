{
 "cells": [
  {
   "cell_type": "markdown",
   "id": "136e3742-eef7-4682-a26b-1f8e55a1aded",
   "metadata": {},
   "source": [
    "## Python: Creating Functions\n",
    "\n",
    " - Built-in functions: int, float, print, input, type, sum, etc.\n",
    " - Now we learn how to build your own custom functions, performing specific tasks.\n",
    " - A function starts with the keyword, <b>def</b>, which is <b>followed by its name starting with a lowercast letter.</b> You may use <b>underscores</b> to separate words in name, say, circle_area_circum. It is recommended to put <b>docstring</b>, explaining the purpose of a function, right below the definition of a function.\n",
    " - At the end we learn random number generation and importing libraries.\n",
    " \n",
    "__1. Creating your own functions with a single parameter__"
   ]
  },
  {
   "cell_type": "code",
   "execution_count": 12,
   "id": "499381e4-fa4e-458c-bd41-a59c1c9a22f9",
   "metadata": {},
   "outputs": [],
   "source": [
    "# Calculating the area and circumference of a circle\n",
    "import math # importing math module of Python for using pi\n",
    "\n",
    "def circle(radius):  # defining a function called circle\n",
    "    \"\"\"Calculates area and circumference of a circle with a radius\"\"\"\n",
    "    \n",
    "    return math.pi*radius**2, 2*math.pi*radius  # End of a function"
   ]
  },
  {
   "cell_type": "code",
   "execution_count": 4,
   "id": "d0358001-53bb-40cf-a389-28bfefb36ab3",
   "metadata": {},
   "outputs": [
    {
     "data": {
      "text/plain": [
       "(28.274333882308138, 18.84955592153876)"
      ]
     },
     "execution_count": 4,
     "metadata": {},
     "output_type": "execute_result"
    }
   ],
   "source": [
    "# calling a function and offering a radius value\n",
    "circle(3)"
   ]
  },
  {
   "cell_type": "code",
   "execution_count": 9,
   "id": "d5c7d0df-edea-49e7-9b51-9ab1dfc78456",
   "metadata": {},
   "outputs": [
    {
     "name": "stdout",
     "output_type": "stream",
     "text": [
      "The area and circumference of a circle with 3cm radius are 28.27cm squared and 18.85cm. \n"
     ]
    }
   ],
   "source": [
    "# Function calls can be embedded.\n",
    "x = 3\n",
    "print(f'The area and circumference of a circle with {x}cm radius \\\n",
    "are {circle(x)[0]:.2f}cm squared and {circle(x)[1]:.2f}cm. ')"
   ]
  },
  {
   "cell_type": "code",
   "execution_count": 16,
   "id": "301c1914-62bd-4fc0-a921-c90296a8c755",
   "metadata": {},
   "outputs": [
    {
     "data": {
      "text/plain": [
       "<function __main__.circle(radius)>"
      ]
     },
     "execution_count": 16,
     "metadata": {},
     "output_type": "execute_result"
    }
   ],
   "source": [
    "# Looking up a functions's docstring\n",
    "circle #? 물음표인데 오류뜸;;"
   ]
  },
  {
   "cell_type": "markdown",
   "id": "4f84c519-177e-4076-a842-32d123303864",
   "metadata": {},
   "source": []
  }
 ],
 "metadata": {
  "kernelspec": {
   "display_name": "Python 3 (ipykernel)",
   "language": "python",
   "name": "python3"
  },
  "language_info": {
   "codemirror_mode": {
    "name": "ipython",
    "version": 3
   },
   "file_extension": ".py",
   "mimetype": "text/x-python",
   "name": "python",
   "nbconvert_exporter": "python",
   "pygments_lexer": "ipython3",
   "version": "3.9.7"
  }
 },
 "nbformat": 4,
 "nbformat_minor": 5
}
