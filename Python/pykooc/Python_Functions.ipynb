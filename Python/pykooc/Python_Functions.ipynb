{
 "cells": [
  {
   "cell_type": "markdown",
   "id": "136e3742-eef7-4682-a26b-1f8e55a1aded",
   "metadata": {},
   "source": [
    "## Python: Creating Functions\n",
    "\n",
    " - Built-in functions: int, float, print, input, type, sum, etc.\n",
    " - Now we learn how to build your own custom functions, performing specific tasks.\n",
    " - A function starts with the keyword, <b>def</b>, which is <b>followed by its name starting with a lowercast letter.</b> You may use <b>underscores</b> to separate words in name, say, circle_area_circum. It is recommended to put <b>docstring</b>, explaining the purpose of a function, right below the definition of a function.\n",
    " - At the end we learn random number generation and importing libraries.\n",
    " \n",
    "__1. Creating your own functions with a single parameter__"
   ]
  },
  {
   "cell_type": "code",
   "execution_count": 12,
   "id": "499381e4-fa4e-458c-bd41-a59c1c9a22f9",
   "metadata": {},
   "outputs": [],
   "source": [
    "# Calculating the area and circumference of a circle\n",
    "import math # importing math module of Python for using pi\n",
    "\n",
    "def circle(radius):  # defining a function called circle\n",
    "    \"\"\"Calculates area and circumference of a circle with a radius\"\"\"\n",
    "    \n",
    "    return math.pi*radius**2, 2*math.pi*radius  # End of a function"
   ]
  },
  {
   "cell_type": "code",
   "execution_count": 4,
   "id": "d0358001-53bb-40cf-a389-28bfefb36ab3",
   "metadata": {},
   "outputs": [
    {
     "data": {
      "text/plain": [
       "(28.274333882308138, 18.84955592153876)"
      ]
     },
     "execution_count": 4,
     "metadata": {},
     "output_type": "execute_result"
    }
   ],
   "source": [
    "# calling a function and offering a radius value\n",
    "circle(3)"
   ]
  },
  {
   "cell_type": "code",
   "execution_count": 9,
   "id": "d5c7d0df-edea-49e7-9b51-9ab1dfc78456",
   "metadata": {},
   "outputs": [
    {
     "name": "stdout",
     "output_type": "stream",
     "text": [
      "The area and circumference of a circle with 3cm radius are 28.27cm squared and 18.85cm. \n"
     ]
    }
   ],
   "source": [
    "# Function calls can be embedded.\n",
    "x = 3\n",
    "print(f'The area and circumference of a circle with {x}cm radius \\\n",
    "are {circle(x)[0]:.2f}cm squared and {circle(x)[1]:.2f}cm. ')"
   ]
  },
  {
   "cell_type": "code",
   "execution_count": 16,
   "id": "301c1914-62bd-4fc0-a921-c90296a8c755",
   "metadata": {},
   "outputs": [
    {
     "data": {
      "text/plain": [
       "<function __main__.circle(radius)>"
      ]
     },
     "execution_count": 16,
     "metadata": {},
     "output_type": "execute_result"
    }
   ],
   "source": [
    "# Looking up a functions's docstring\n",
    "circle #? 물음표인데 오류뜸;;"
   ]
  },
  {
   "cell_type": "markdown",
   "id": "4f84c519-177e-4076-a842-32d123303864",
   "metadata": {},
   "source": [
    "__2. Creating functions with multiple parameters__"
   ]
  },
  {
   "cell_type": "code",
   "execution_count": 18,
   "id": "49a5c2bf-f2b8-4c59-8b1b-35fb83c1f213",
   "metadata": {},
   "outputs": [],
   "source": [
    "# parameters, x and y, are comma separated and called local variables.\n",
    "def myfunction(x, y):\n",
    "    \"\"\"addition, multiplication and division\"\"\"\n",
    "    \n",
    "    return x+y, x*y, x/y"
   ]
  },
  {
   "cell_type": "code",
   "execution_count": 20,
   "id": "5ceae43f-b33a-442d-814a-2adf14b48c0b",
   "metadata": {},
   "outputs": [
    {
     "data": {
      "text/plain": [
       "(18, 45, 5.0)"
      ]
     },
     "execution_count": 20,
     "metadata": {},
     "output_type": "execute_result"
    }
   ],
   "source": [
    "myfunction(15, 3)"
   ]
  },
  {
   "cell_type": "code",
   "execution_count": 22,
   "id": "35593069-4791-4ddb-9167-ae01d0ccd60c",
   "metadata": {},
   "outputs": [],
   "source": [
    "# A function without parameters\n",
    "\n",
    "def findmin():\n",
    "    \"\"\"Finding the minimum among three integers\"\"\"\n",
    "    \n",
    "    x=int(input(\"Enter first integer: \"))\n",
    "    y=int(input(\"Enter Second integer: \"))\n",
    "    z=int(input(\"Enter Third integer: \"))\n",
    "    \n",
    "    minimum = x\n",
    "    if y < minimum:\n",
    "        minimum = y\n",
    "    if z < minimum:\n",
    "        minimum = z\n",
    "    return minimum"
   ]
  },
  {
   "cell_type": "code",
   "execution_count": 24,
   "id": "bed0a651-d253-4fd2-b374-07e16ac488b7",
   "metadata": {},
   "outputs": [
    {
     "name": "stdin",
     "output_type": "stream",
     "text": [
      "Enter first integer:  454\n",
      "Enter Second integer:  52\n",
      "Enter Third integer:  42\n"
     ]
    },
    {
     "data": {
      "text/plain": [
       "42"
      ]
     },
     "execution_count": 24,
     "metadata": {},
     "output_type": "execute_result"
    }
   ],
   "source": [
    "findmin()"
   ]
  },
  {
   "cell_type": "code",
   "execution_count": 27,
   "id": "41a939da-25ce-4cf9-8230-6e993bf948f9",
   "metadata": {},
   "outputs": [],
   "source": [
    "def findmin1(x, y, z):\n",
    "    \"\"\"Another function for finding a minimum\"\"\"\n",
    "    \n",
    "    return min(x, y, z)"
   ]
  },
  {
   "cell_type": "code",
   "execution_count": 29,
   "id": "7d82ddd7-eb08-400c-bc05-74e303d8b921",
   "metadata": {},
   "outputs": [
    {
     "name": "stdout",
     "output_type": "stream",
     "text": [
      "7\n",
      "3\n"
     ]
    }
   ],
   "source": [
    "print(findmin1(7,8,9))\n",
    "print(x) # printing a global variable, x"
   ]
  },
  {
   "cell_type": "code",
   "execution_count": 32,
   "id": "b34e39a0-6397-4350-88dc-c4a67141ddcf",
   "metadata": {},
   "outputs": [
    {
     "name": "stdout",
     "output_type": "stream",
     "text": [
      "Minimum is 8.\n"
     ]
    }
   ],
   "source": [
    "print(f'Minimum is {findmin1(10, 8, 9)}.')"
   ]
  },
  {
   "cell_type": "markdown",
   "id": "6a0f3419-5cfa-4a7d-aae1-0955fbba785a",
   "metadata": {},
   "source": [
    "__3. Functions with default parameter values__"
   ]
  },
  {
   "cell_type": "code",
   "execution_count": 34,
   "id": "4d6cdd48-108d-48df-9cae-636d591f6428",
   "metadata": {},
   "outputs": [],
   "source": [
    "def rectangle(width=3, height=5):\n",
    "    \"\"\"Calculating the area of a rectangle\"\"\"\n",
    "    \n",
    "    return width*height"
   ]
  },
  {
   "cell_type": "code",
   "execution_count": 36,
   "id": "ebd44979-f666-4a2e-a448-217f3b288128",
   "metadata": {},
   "outputs": [
    {
     "name": "stdout",
     "output_type": "stream",
     "text": [
      "15 25 20\n"
     ]
    }
   ],
   "source": [
    "print(rectangle(), rectangle(5), rectangle(4,5))"
   ]
  },
  {
   "cell_type": "code",
   "execution_count": 38,
   "id": "e6edb0fa-40a7-4663-8303-a85062d4b342",
   "metadata": {},
   "outputs": [
    {
     "name": "stdout",
     "output_type": "stream",
     "text": [
      "12 42\n"
     ]
    }
   ],
   "source": [
    "print(rectangle(height=4), rectangle(height=6, width=7))"
   ]
  },
  {
   "cell_type": "markdown",
   "id": "4eaaabf0-8e3b-44f7-b726-8f02a2e1caf1",
   "metadata": {},
   "source": [
    "__4. A function taking an arbitrary number of argument__"
   ]
  },
  {
   "cell_type": "code",
   "execution_count": 40,
   "id": "9c793b29-82fd-4092-8de5-9fa30d159b51",
   "metadata": {},
   "outputs": [],
   "source": [
    "def my_average(*nums):\n",
    "    \"\"\"Calculating average with multiple numbers\"\"\"\n",
    "    \n",
    "    return sum(nums)/len(nums)"
   ]
  },
  {
   "cell_type": "code",
   "execution_count": 42,
   "id": "6da28c77-b950-4db5-abb1-390f4c5e4a02",
   "metadata": {},
   "outputs": [
    {
     "data": {
      "text/plain": [
       "58.6"
      ]
     },
     "execution_count": 42,
     "metadata": {},
     "output_type": "execute_result"
    }
   ],
   "source": [
    "my_average(68, 23, 45, 67, 90)"
   ]
  },
  {
   "cell_type": "code",
   "execution_count": 44,
   "id": "480d4b31-8305-4dff-a9c3-aaaf91cd71c5",
   "metadata": {},
   "outputs": [
    {
     "data": {
      "text/plain": [
       "5.5"
      ]
     },
     "execution_count": 44,
     "metadata": {},
     "output_type": "execute_result"
    }
   ],
   "source": [
    "grades = [1,2,3,4,5,6,7,8,9,10]\n",
    "my_average(*grades)"
   ]
  },
  {
   "cell_type": "markdown",
   "id": "05cb4cdc-8a65-4078-b7bd-b5d975ac00cd",
   "metadata": {},
   "source": [
    "### 5. Main function and \"__name__\" variable\n",
    "\n",
    " - The main function is the point of executing a python program.\n",
    " - It works only when the program is executed directly (i.e., as a Python script, not as a module imported in other scripts).\n",
    " - The name variable is a special variable of Python, evaluating the name of current program.\n",
    " - It also takes \"__main __\" when a script is executed directly"
   ]
  },
  {
   "cell_type": "code",
   "execution_count": 50,
   "id": "969ab9ad-f213-448e-b413-b9211dbed565",
   "metadata": {},
   "outputs": [
    {
     "name": "stdout",
     "output_type": "stream",
     "text": [
      "The area and circumference of a circle with 3cm radius     are 28.27cm squared and 18.850cm.\n",
      "Main function is executed!\n"
     ]
    }
   ],
   "source": [
    "def main(x):\n",
    "    \"\"\"An excercise of main function\"\"\"\n",
    "    print(f'The area and circumference of a circle with {x}cm radius \\\n",
    "    are {circle(x)[0]:.2f}cm squared and {circle(x)[1]:.3f}cm.')\n",
    "    print('Main function is executed!')\n",
    "    \n",
    "if __name__ == '__main__':\n",
    "    main(3)"
   ]
  },
  {
   "cell_type": "code",
   "execution_count": 51,
   "id": "98be6f0d-2be5-48ac-ba5d-610a6552b8c4",
   "metadata": {},
   "outputs": [
    {
     "name": "stdout",
     "output_type": "stream",
     "text": [
      "The area and circumference of a circle with 5cm radius     are 78.54cm squared and 31.416cm.\n",
      "Main function is executed!\n"
     ]
    },
    {
     "data": {
      "text/plain": [
       "'__main__'"
      ]
     },
     "execution_count": 51,
     "metadata": {},
     "output_type": "execute_result"
    }
   ],
   "source": [
    "def hwan(x):\n",
    "    \"\"\"An excercise of main function\"\"\"\n",
    "    print(f'The area and circumference of a circle with {x}cm radius \\\n",
    "    are {circle(x)[0]:.2f}cm squared and {circle(x)[1]:.3f}cm.')\n",
    "    print('Main function is executed!')\n",
    "    \n",
    "hwan(5); __name__"
   ]
  },
  {
   "cell_type": "code",
   "execution_count": 53,
   "id": "411a7347-c2c9-4010-a213-066476aa43c3",
   "metadata": {},
   "outputs": [],
   "source": [
    "# When a source file is run as a main program, the source file program has the name, __main.\n",
    "# And if clause becomes True and the main function is executed.\n",
    "# %run 'file_name' or %run -i 'file_name'\n",
    "# !python 'file_name'"
   ]
  },
  {
   "cell_type": "code",
   "execution_count": null,
   "id": "2cba7408-36b5-432f-9c27-5b0e242ef5bb",
   "metadata": {},
   "outputs": [],
   "source": []
  }
 ],
 "metadata": {
  "kernelspec": {
   "display_name": "Python 3 (ipykernel)",
   "language": "python",
   "name": "python3"
  },
  "language_info": {
   "codemirror_mode": {
    "name": "ipython",
    "version": 3
   },
   "file_extension": ".py",
   "mimetype": "text/x-python",
   "name": "python",
   "nbconvert_exporter": "python",
   "pygments_lexer": "ipython3",
   "version": "3.9.7"
  }
 },
 "nbformat": 4,
 "nbformat_minor": 5
}
