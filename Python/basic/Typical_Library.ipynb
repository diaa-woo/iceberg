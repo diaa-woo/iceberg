{
  "nbformat": 4,
  "nbformat_minor": 0,
  "metadata": {
    "colab": {
      "provenance": [],
      "collapsed_sections": [
        "Mw4vdPqYVk8x",
        "Mbs_aGZyfNb0",
        "rOlL2OXKwFQT"
      ]
    },
    "kernelspec": {
      "name": "python3",
      "display_name": "Python 3"
    },
    "language_info": {
      "name": "python"
    }
  },
  "cells": [
    {
      "cell_type": "markdown",
      "source": [
        "# 주요 라이브러리\n",
        "\n",
        "파이썬의 꽃은 바로 수우많은 라이브러리들이다. 이 문서는 그중에서도 코딩테스트에서 많이 쓰이는 주요 라이브러리의 문법과 유의할 점에 대해서 적는다. 일부 라이브러리는 잘못 사용하면 수행 시간이 비효율적으로 증가하므로 잘 숙지해두는 게 좋다.\n",
        "\n",
        "**표준 라이브러리**란 __특정한 프로그래밍 언어에서 자주 사용되는 표준 소스코드를 미리 구현해 놓은 라이브러리__를 뜻한다. 코딩 테스트에서는 대부분 표준 라이브러리를 사용할 수 있도록 허용하므로 이를 사용하면 소스코드 작성량에 대한 부담을 줄일 수 있다.\n",
        "\n",
        "파이썬 표준 라이브러리는 다음 공식 문서에 서술되어 있다. <a target=\"__blank\">https://docs.python.org/ko/3/library/index.html</a> 추가로 필요한 기능이 있다면 찾아서 사용하면 좋을듯 하다.\n",
        "\n",
        "파이썬에서 지원하는 표준 라이브러리는 매우 다양하지만, 현재 적혀있는 표준 라이브러리는 6가지 정도이다. (추후 추가해나갈 생각이다.) 이 라이브러리들 또한 각각 많은 기능을 포함하고 있어 모두 언급하기 힘드므로, 각 라이브러리에서 가장 중요하고 알아두어야 할 핵심 내용만 요약하여 설명하고자 한다.\n",
        "\n",
        "- 내장 함수: `print()`, `input()`과 같은 기본 입출력 기능부터 `sorted()`와 같은 정렬 기능을 포함하고 있는 기본 내장 라이브러리이다. 파이썬 프로그램을 작성할 때 없어서는 안 되는 필수적인 기능들을 담고 있다. \n",
        "- itertools: 파이썬에서 반복되는 형태의 데이터를 처리하는 기능을 제공하는 라이브러리이다. 순열과 조합 라이브러리를 적용한다.\n",
        "- heapq: 힙(Heap) 기능을 제공하는 라이브러리이다. 우선순위 큐 기능을 구현하기 위해 사용된다.\n",
        "- bisect: 이진 탐색(Binary Search) 기능을 제공하는 라이브러리이다.\n",
        "- collections: 덱(deque), 카운터(Counter) 등의 유용한 자료구조를 포함하고 있는 라이브러리이다.\n",
        "- math: 필수적인 수학적 기능을 제공하는 라이브러리이다. factorial, square root, GCD, trigonometric functions 관련 함수부터 pi와 같은 상수를 포함하고 있다."
      ],
      "metadata": {
        "id": "5doW7Ar1Sl__"
      }
    },
    {
      "cell_type": "markdown",
      "source": [
        "## 내장 함수\n",
        "파이썬에는 별도의 `import` 명령어 없이 바로 사용할 수 있는 내장 함수가 존재한다. 내장 함수는 프로그램 작성에 있어 가장 기본적이면서 필수적인 기능을 포함하고 있다. \n"
      ],
      "metadata": {
        "id": "Mw4vdPqYVk8x"
      }
    },
    {
      "cell_type": "markdown",
      "source": [
        "\n",
        "### `sum()`\n",
        "먼저 sum 함수의 경우 리스트와 같은 iterable 객체(반복 가능한 객체)가 입력으로 주어졌을 때, 모든 원소의 **합**을 반환한다. "
      ],
      "metadata": {
        "id": "uNDoZQF0WeBD"
      }
    },
    {
      "cell_type": "code",
      "source": [
        "result = sum([1,2,3,4,5])\n",
        "print(result)"
      ],
      "metadata": {
        "colab": {
          "base_uri": "https://localhost:8080/"
        },
        "id": "kaVQIcbIWH27",
        "outputId": "b8133409-275f-4cd7-d1c8-bada329c6df1"
      },
      "execution_count": null,
      "outputs": [
        {
          "output_type": "stream",
          "name": "stdout",
          "text": [
            "15\n"
          ]
        }
      ]
    },
    {
      "cell_type": "markdown",
      "source": [
        "### `min()`\n",
        "min() 함수는 파라미터가 2개 이상 들어왔을 때 그 안에서 가장 작은 값을 반환한다."
      ],
      "metadata": {
        "id": "op5j336UWO6p"
      }
    },
    {
      "cell_type": "code",
      "source": [
        "result = min(7,3,5,2)\n",
        "print(result)"
      ],
      "metadata": {
        "colab": {
          "base_uri": "https://localhost:8080/"
        },
        "id": "BLAl4jUdWVS-",
        "outputId": "5d55944a-9d6e-49e1-dbf3-eed23ddb1f50"
      },
      "execution_count": null,
      "outputs": [
        {
          "output_type": "stream",
          "name": "stdout",
          "text": [
            "2\n"
          ]
        }
      ]
    },
    {
      "cell_type": "markdown",
      "source": [
        "### `max`\n",
        "이 함수는 파라미터가 2개 이상 들어왔을 때 가장 큰 값을 반환한다."
      ],
      "metadata": {
        "id": "ai91W7lCW0e-"
      }
    },
    {
      "cell_type": "code",
      "source": [
        "result = max(7,3,5,2)\n",
        "print(result)"
      ],
      "metadata": {
        "colab": {
          "base_uri": "https://localhost:8080/"
        },
        "id": "N_4E9rtkW56F",
        "outputId": "e278f830-a74c-49d1-ff68-cb67f579129c"
      },
      "execution_count": null,
      "outputs": [
        {
          "output_type": "stream",
          "name": "stdout",
          "text": [
            "7\n"
          ]
        }
      ]
    },
    {
      "cell_type": "markdown",
      "source": [
        "### `eval()`\n",
        "이 함수는 수학 수식이 문자열 형식으로 들어오면 해당 수식을 계산한 결과를 반환한다. 이 때 매개변수는 문자열로 주어야 한다."
      ],
      "metadata": {
        "id": "IhdbZiysW-Xg"
      }
    },
    {
      "cell_type": "code",
      "source": [
        "result = eval(\"(3+5)*7\")"
      ],
      "metadata": {
        "id": "oWV4-IdgXEeo"
      },
      "execution_count": null,
      "outputs": []
    },
    {
      "cell_type": "markdown",
      "source": [
        "### `sorted()`\n",
        "이 함수는 iterable 객체가 들어왔을 때, 정렬된 결과를 반환한다. key 속성으로 정렬 기준을 명시할 수 있으며, reverse 속성으로 정렬된 결과 리스트를 뒤집을 지의 여부를 정할 수 있다."
      ],
      "metadata": {
        "id": "i8BeLXXqXNs2"
      }
    },
    {
      "cell_type": "code",
      "source": [
        "result = sorted([9,1,8,5,4])                  # 오름차순으로 정렬(default, reverse = False)\n",
        "print(result)\n",
        "result = sorted([9,1,8,4,5], reverse = True)  # 내림차순으로 정렬\n",
        "print(result)"
      ],
      "metadata": {
        "colab": {
          "base_uri": "https://localhost:8080/"
        },
        "id": "fW5WWHnEXZSw",
        "outputId": "85a7a92c-82aa-4515-f32c-5eb9e7c23bba"
      },
      "execution_count": null,
      "outputs": [
        {
          "output_type": "stream",
          "name": "stdout",
          "text": [
            "[1, 4, 5, 8, 9]\n",
            "[9, 8, 5, 4, 1]\n"
          ]
        }
      ]
    },
    {
      "cell_type": "markdown",
      "source": [
        "### key가 있을땐?\n",
        "파이썬에서는 리스트의 원소로 리스트나 튜플이 존재할 때 특정한 기준에 따라서 정렬을 수행할 수 있는데, 이 기준은 **key 속성**을 이용하여 명시할 수 있다."
      ],
      "metadata": {
        "id": "Cqg_8qoZeNRT"
      }
    },
    {
      "cell_type": "code",
      "source": [
        "result = sorted([('홍길동', 35), ('이순신', 75), ('아무개', 50)], key = lambda x: x[1], reverse=True)\n",
        "print(result)"
      ],
      "metadata": {
        "colab": {
          "base_uri": "https://localhost:8080/"
        },
        "id": "s2zgHN4zefk1",
        "outputId": "5e564bd9-2c18-4722-c689-8a7a852c904d"
      },
      "execution_count": 1,
      "outputs": [
        {
          "output_type": "stream",
          "name": "stdout",
          "text": [
            "[('이순신', 75), ('아무개', 50), ('홍길동', 35)]\n"
          ]
        }
      ]
    },
    {
      "cell_type": "markdown",
      "source": [
        "리스트와 같은 iterable 객체는 기본으로 `sort()` 함수를 내장하고 있어서 굳이 `sorted()` 함수를 사용하지 않고도 바로 정렬할 수 있다. 이 경우 리스트 객체의 내부 값이 정렬된 값으로 바로 변경된다."
      ],
      "metadata": {
        "id": "v9a1_m8Re2yj"
      }
    },
    {
      "cell_type": "code",
      "source": [
        "data = [9, 1, 8, 5, 4]\n",
        "data.sort()\n",
        "print(data)"
      ],
      "metadata": {
        "colab": {
          "base_uri": "https://localhost:8080/"
        },
        "id": "IPYmgLpTfHV7",
        "outputId": "8837148f-ef79-4223-be23-d22508fcb25d"
      },
      "execution_count": 2,
      "outputs": [
        {
          "output_type": "stream",
          "name": "stdout",
          "text": [
            "[1, 4, 5, 8, 9]\n"
          ]
        }
      ]
    },
    {
      "cell_type": "markdown",
      "source": [
        "## itertools\n",
        "itertools는 파이썬에서 반복되는 데이터를 처리하는 기능을 포함하는 라이브러리이다. 제공되는 클래스는 매우 다양한데, 그중 몇몇 유용한 클래스에 대해 소개한다."
      ],
      "metadata": {
        "id": "Mbs_aGZyfNb0"
      }
    },
    {
      "cell_type": "markdown",
      "source": [
        "### `permutations`\n",
        "permutations(순열)는 리스트와 같은 iterable 객체에서 r개의 데이터를 뽑아 일려로 나열하는 모든 경우(순열)를 계산해준다. 얘는 클래스인데 객체 초기화 이후에는 리스트 자료형으로 반환하여 사용한다."
      ],
      "metadata": {
        "id": "tH0Ll4Uwfcwe"
      }
    },
    {
      "cell_type": "code",
      "source": [
        "from itertools import permutations\n",
        "\n",
        "data = ['A', 'B', 'C']\n",
        "result = list(permutations(data, 3))\n",
        "\n",
        "print(result)"
      ],
      "metadata": {
        "colab": {
          "base_uri": "https://localhost:8080/"
        },
        "id": "JC8-h3qkfb4I",
        "outputId": "324d0903-7bf8-4fda-c707-87254d37778c"
      },
      "execution_count": 3,
      "outputs": [
        {
          "output_type": "stream",
          "name": "stdout",
          "text": [
            "[('A', 'B', 'C'), ('A', 'C', 'B'), ('B', 'A', 'C'), ('B', 'C', 'A'), ('C', 'A', 'B'), ('C', 'B', 'A')]\n"
          ]
        }
      ]
    },
    {
      "cell_type": "markdown",
      "source": [
        "### `combinations`\n",
        "conbinations(조합)은 리스트와 같은 iterable 객체에서 r개의 데이터를 뽑아 순서를 고려하지 않고 나열하는 모든 경우를 계산한다. 이 또한 클래스이기에 객체 초기화 이후에는 리스트 자료형으로 변환하여 사용한다."
      ],
      "metadata": {
        "id": "n7e631OuiosM"
      }
    },
    {
      "cell_type": "code",
      "source": [
        "from itertools import combinations\n",
        "\n",
        "data = ['A', 'B', 'C']  # 데이터 준비\n",
        "result = list(combinations(data, 2))  # 2개를 뽑는 모든 조합 구하기\n",
        "\n",
        "print(result)"
      ],
      "metadata": {
        "colab": {
          "base_uri": "https://localhost:8080/"
        },
        "id": "Gt0YEzdbi4Wm",
        "outputId": "bb64f80b-327e-4e95-fdc3-64944b59bf85"
      },
      "execution_count": 4,
      "outputs": [
        {
          "output_type": "stream",
          "name": "stdout",
          "text": [
            "[('A', 'B'), ('A', 'C'), ('B', 'C')]\n"
          ]
        }
      ]
    },
    {
      "cell_type": "markdown",
      "source": [
        "### `product`\n",
        "product는 permutations와 같이 순열을 계산하는데, 얘는 원소를 중복하면서 뽑는다. product 개게를 초기화 할 때는 뽑고자 하는 데이터의 수를 `repeat` 속성값으로 넣어준다. product 또한 클래스이므로 객체 초기화 이후에는 리스트 자료형으로 변환하여 사용한다."
      ],
      "metadata": {
        "id": "icHLpqLhjIYg"
      }
    },
    {
      "cell_type": "code",
      "source": [
        "from itertools import product\n",
        "\n",
        "data = ['A', 'B', 'C']\n",
        "result = list(product(data, repeat=2))\n",
        "\n",
        "print(result)"
      ],
      "metadata": {
        "colab": {
          "base_uri": "https://localhost:8080/"
        },
        "id": "XjF0jldlvVh7",
        "outputId": "fa62fae8-16fb-431b-e91f-403f10386de2"
      },
      "execution_count": 5,
      "outputs": [
        {
          "output_type": "stream",
          "name": "stdout",
          "text": [
            "[('A', 'A'), ('A', 'B'), ('A', 'C'), ('B', 'A'), ('B', 'B'), ('B', 'C'), ('C', 'A'), ('C', 'B'), ('C', 'C')]\n"
          ]
        }
      ]
    },
    {
      "cell_type": "markdown",
      "source": [
        "### `combinations_with_replacement`\n",
        "이름도 엄청 긴 이 클래스는 iterable 객체에서 모든 조합의 경우를 계산하는데, 예는 원소를 중복해서 뽑는다. 얘얘도 클래스이므로 객체 초기화 이후에는 리스트 자료형으로 변환하여 사용해야 한다."
      ],
      "metadata": {
        "id": "O5Efa9nnvg6B"
      }
    },
    {
      "cell_type": "code",
      "source": [
        "from itertools import combinations_with_replacement\n",
        "\n",
        "data = ['A', 'B', 'C']\n",
        "result = list(combinations_with_replacement(data, 2))  # 2개를 뽑는 모든 조합 구하기(중복 허용!!!)\n",
        "print(result)"
      ],
      "metadata": {
        "colab": {
          "base_uri": "https://localhost:8080/"
        },
        "id": "NU9NEpl5v0qO",
        "outputId": "c9765e64-ff4a-4a1b-a418-e86a912b1b2a"
      },
      "execution_count": 6,
      "outputs": [
        {
          "output_type": "stream",
          "name": "stdout",
          "text": [
            "[('A', 'A'), ('A', 'B'), ('A', 'C'), ('B', 'B'), ('B', 'C'), ('C', 'C')]\n"
          ]
        }
      ]
    },
    {
      "cell_type": "markdown",
      "source": [
        "## heapq\n",
        "파이썬에서는 힙 기능을 위해 이 라이브러리를 제공하는데, 이 라이브러리에는 다양한 알고리즘(대표적으로 다익스트라 최단 경로 알고리즘)으로 포함해 **우선순위 큐 기능**을 구현하고자 할 때 쓰인다. \n",
        "\n",
        "얘 말고도 *PriorityQueue*라이브러리가 있긴 한데, *heapq*가 더 빠르니 그냥 이거 쓰도록 하자.\n",
        "\n",
        "파이썬의 힙은 최소 힙으로 구성되어 있어 단순히 원소를 힙에 전부 넣었다가 빼는 것만으로도 시간 복잡도 O(NlogN)에 오름차순 정렬이 완료된다. 보통 최소 힙 자료구조의 최상단 원소는 항상 '가장 작은' 원소이기 때문이다."
      ],
      "metadata": {
        "id": "rOlL2OXKwFQT"
      }
    },
    {
      "cell_type": "markdown",
      "source": [
        "### 모르는 용어들 체크!!!"
      ],
      "metadata": {
        "id": "92G2KjXKw3Hf"
      }
    },
    {
      "cell_type": "markdown",
      "source": [
        "#### 다익스트라 최단 경로 알고리즘\n",
        "\n",
        "**그래프 안에서 꼭짓점 안에 최단 경로를 찾아내는 알고리즘**\n",
        "\n",
        "데이크스트라 알고리즘이라고도 한다. 최단 경로 트리를 뱉어낸다.\n",
        "\n",
        "자세한건 <a target=\"__blank\">https://ko.wikipedia.org/wiki/%EB%8D%B0%EC%9D%B4%ED%81%AC%EC%8A%A4%ED%8A%B8%EB%9D%BC_%EC%95%8C%EA%B3%A0%EB%A6%AC%EC%A6%98</a>"
      ],
      "metadata": {
        "id": "3bx78EaMw8sn"
      }
    },
    {
      "cell_type": "markdown",
      "source": [
        "### 힙 정렬\n",
        "해당 라이브러리를 이용해 힙 정렬을 해줄 수 있는데, 대표적인 명령어는 원소를 삽입하는 `heapq.heappush()` 메서드와, 원소를 빼내는 `heapq.heappop()` 메서드 등이 있다."
      ],
      "metadata": {
        "id": "bkivDGwGxpeg"
      }
    },
    {
      "cell_type": "code",
      "source": [
        "import heapq\n",
        "\n",
        "def heapsort(iterable):\n",
        "  h = []\n",
        "  result = []\n",
        "\n",
        "  # 모든 원소를 차례대로 힙에 삽입\n",
        "  for value in iterable:\n",
        "    heapq.heappush(h, value)\n",
        "\n",
        "  # 힙에 삽입된 모든 원소를 차례대로 꺼내어 담기\n",
        "  for _ in range(len(h)):\n",
        "    result.append(heapq.heappop(h))\n",
        "  return result\n",
        "\n",
        "result = heapsort([1,3,5,7,9,2,4,6,8,0])\n",
        "print(result)"
      ],
      "metadata": {
        "colab": {
          "base_uri": "https://localhost:8080/"
        },
        "id": "MF--FvVQyALF",
        "outputId": "f3b9626e-90dc-4440-9786-9098bd26db33"
      },
      "execution_count": 7,
      "outputs": [
        {
          "output_type": "stream",
          "name": "stdout",
          "text": [
            "[0, 1, 2, 3, 4, 5, 6, 7, 8, 9]\n"
          ]
        }
      ]
    },
    {
      "cell_type": "markdown",
      "source": [
        "#### 최대 힙은 없어!\n",
        "파이썬은 최대 힙을 제공하지 않는데, 간혹 최대 힙을 구해야 하는 경우가 종종 생긴다. 이때는 이 라이브러리를 이용해 원소의 부호를 임시로 변경하는 방식을 사용한다. 힙에 원소를 삽입하기 전에 잠시 부호를 반대로 바꿔뒀다가, 힙에서 원소를 꺼낸 뒤에 다시 원소의 부호를 바꾸면 된다. 이러한 방식으로 최대 힙을 구현하여 내림차순 힙 정렬을 만들 수 있다."
      ],
      "metadata": {
        "id": "bBO-aBuvylZs"
      }
    },
    {
      "cell_type": "code",
      "source": [
        "import heapq\n",
        "\n",
        "def heapsort(iterable):\n",
        "  h = []\n",
        "  result = []\n",
        "\n",
        "  # 모든 원소를 차례대로 힙에 삽입\n",
        "  for value in iterable:\n",
        "    heapq.heappush(h, -value)\n",
        "\n",
        "  # 힙에 삽입된 모든 원소를 차례대로 꺼내어 담기\n",
        "  for _ in range(len(h)):\n",
        "    result.append(-heapq.heappop(h))\n",
        "  return result\n",
        "\n",
        "result = heapsort([1,3,5,7,9,2,4,6,8,0])\n",
        "print(result)"
      ],
      "metadata": {
        "colab": {
          "base_uri": "https://localhost:8080/"
        },
        "id": "3qGoOUQQy7dI",
        "outputId": "81ce5a70-39ab-4537-e53b-19ff17ee3443"
      },
      "execution_count": 9,
      "outputs": [
        {
          "output_type": "stream",
          "name": "stdout",
          "text": [
            "[9, 8, 7, 6, 5, 4, 3, 2, 1, 0]\n"
          ]
        }
      ]
    },
    {
      "cell_type": "markdown",
      "source": [
        "## bisect\n",
        "파이썬에서는 이진 탐색을 쉽게 구현할 수 있도록 해당 라이브러리를 제공한다. bisect 라이브러리는 **정렬된 배열**에서 특정한 원소를 찾아야 할 때 매우 효과적으로 사용된다. "
      ],
      "metadata": {
        "id": "p5Fzs4rOzjEg"
      }
    },
    {
      "cell_type": "markdown",
      "source": [
        "### 시간 복잡도 동작 메서드\n",
        "`bisect_left(a, x)`, `bisect_right(b, x)` 이 두 함수는 시간 복접동 맞춰 돌아간다.\n",
        "\n",
        "- bisect_left(a, x): 정렬된 순서를 유지하면서 리스트 a에 데이터 x를 삽입할 가장 왼쪽 인덱스를 찾는 메서드\n",
        "- bisect_right(a, x): 정렬된 순서를 유지하면서 리스트 a에 데이터 x를 삽입할 가장 오른쪽 인덱스를 찾는 메서드\n",
        "\n",
        "예를 들어 정렬된 리스트 [1,2,4,4,8]이 들어있을 때, `bisect_left(a, 4)`로 하면 인덱스 2의 4 왼쪽에 a가 들어가고, `bisect_right(a, 4)`를 넣으면 인덱스 3의 4 오른쪽에 a가 들어간다."
      ],
      "metadata": {
        "id": "Gp6nQen72CJP"
      }
    },
    {
      "cell_type": "code",
      "source": [
        "from bisect import bisect_left, bisect_right\n",
        "\n",
        "a = [1, 2, 4, 4, 8]\n",
        "x = 4\n",
        "\n",
        "print(bisect_left(a, x))\n",
        "print(bisect_right(a, x))"
      ],
      "metadata": {
        "colab": {
          "base_uri": "https://localhost:8080/"
        },
        "id": "LYLGp7cl23xM",
        "outputId": "5c83ed25-797e-48de-aa01-ec74af6f2121"
      },
      "execution_count": 10,
      "outputs": [
        {
          "output_type": "stream",
          "name": "stdout",
          "text": [
            "2\n",
            "4\n"
          ]
        }
      ]
    },
    {
      "cell_type": "markdown",
      "source": [
        "### 데이터의 개수를 구하고 싶다면?\n",
        "`bisect_left()`, `bisect_right()`를 이용하여 효과적으로 구할 수 있다. 아래의 코드를 뜯어보면 *left_value*와 *right_value* 안에 들어있는 데이터의 개수를 O(logN)으로 빠르게 계산할 수 있다."
      ],
      "metadata": {
        "id": "FkyGVdL-3G_H"
      }
    },
    {
      "cell_type": "code",
      "source": [
        "from bisect import bisect_left, bisect_right\n",
        "\n",
        "# 값이 [left_value, right_value]인 데이터의 개수를 반환하는 함수\n",
        "def count_by_range(a, left_value, right_value):\n",
        "  right_index = bisect_right(a, right_value)\n",
        "  left_index = bisect_left(a, left_value)\n",
        "  return right_index - left_index\n",
        "\n",
        "# 리스트 선언\n",
        "a = [1,2,3,3,3,3,4,4,8,9]\n",
        "\n",
        "# 값이 4인 데이터 개수 출력\n",
        "print(count_by_range(a, 4, 4))\n",
        "\n",
        "# 값이 [-1, 3] 범위에 있는 데이터 개수 출력\n",
        "print(count_by_range(a, -1, 3))"
      ],
      "metadata": {
        "colab": {
          "base_uri": "https://localhost:8080/"
        },
        "id": "9toHWXi13e5V",
        "outputId": "e031fb1f-955d-442d-818e-34a09f1b04ef"
      },
      "execution_count": 11,
      "outputs": [
        {
          "output_type": "stream",
          "name": "stdout",
          "text": [
            "2\n",
            "6\n"
          ]
        }
      ]
    },
    {
      "cell_type": "markdown",
      "source": [
        "## collections\n",
        "이 라이브러리는 매우 유우용한 자료구조를 제공하는 표준 라이브러리이다. 거기서 자주 쓰이는 `deque()`, `Counter()`가 있는데, 이를 중점적으로 알아본다."
      ],
      "metadata": {
        "id": "L_9wZBvp4Nis"
      }
    },
    {
      "cell_type": "markdown",
      "source": [
        "### `deque()`\n",
        "파이썬에서는 이 명령어를 사용해 큐를 구현한다~~(Queue라는 라이브러리가 있긴 한데 일반적인 큐 자료구조가 아니라 패스...)~~ \n",
        "\n",
        "기본 리스트 자료형은 데이터 삽입, 삭제 등의 다양한 기능을 제공하며, 리스트가 있을 시 중간에 특정한 원소를 집어 넣는것도 가능하다. 하지만 리스트 자료형은 `append()`메서드로 데이터를 추가하거나, `pop()` 메서드로 데이터를 삭제할 때 **'가장 뒤쪽 원소**를 기준으로 수행한다. 따라서 앞쪽의 원소를 제거하려면 속도가 꽤 오래 거리는데, 이 라이브러리를 사용하면 시간 복잡도가 O(N)에서 O(1)로 단숨에 줄어든다.\n",
        "\n",
        "`deque`에서는 리스트 자료형과는 달리 인덱싱, 슬라이싱 기능을 사용할 수 없다. 다만 연속적으로 나열된 데이터의 시작 부분이나 끝부분에 데이터를 삽입, 삭제할 때는 매우 효과적으로 사용될 수 있다. deque는 스택이나 큐의 기능을 모두 포함한다고 볼 수 있기에 이 대용으로 사용될 수 있다."
      ],
      "metadata": {
        "id": "NkiXoIZM4fEG"
      }
    },
    {
      "cell_type": "markdown",
      "source": [
        "#### 그래서 사용법은요\n",
        "`deque()`는 첫 번째 원소를 제거할 때 `popleft()`를 사용하며, 마지막 원소를 제거할 때 `pop()`을 사용한다. 또한 첫 번째 인덱스에 원소 x를 삽입할 때 `appendleft(x)`를 사용하며, 마지막 인덱스에 원소를 삽입할 때는 append(x)를 사용한다. "
      ],
      "metadata": {
        "id": "bbjda1bI6qj7"
      }
    },
    {
      "cell_type": "markdown",
      "source": [
        "#### 참고사항\n",
        "결국 deque를 큐 자료구조로 이용할 때, 원소를 삽입할 때는 `append()`를 사용하고 원소를 삭제할 때에는 `popleft()`를 사용하면 된다."
      ],
      "metadata": {
        "id": "zzrpC6fl7IFp"
      }
    },
    {
      "cell_type": "code",
      "source": [
        "from collections import deque\n",
        "\n",
        "data = deque([2, 3, 4])\n",
        "data.appendleft(1)\n",
        "data.append(5)\n",
        "\n",
        "print(data)\n",
        "print(list(data))  # 리스트 자료형으로 변환"
      ],
      "metadata": {
        "colab": {
          "base_uri": "https://localhost:8080/"
        },
        "id": "EW8vaRPQ7HaJ",
        "outputId": "788f6b59-5a3d-464e-b6a2-0e8977e07adf"
      },
      "execution_count": 12,
      "outputs": [
        {
          "output_type": "stream",
          "name": "stdout",
          "text": [
            "deque([1, 2, 3, 4, 5])\n",
            "[1, 2, 3, 4, 5]\n"
          ]
        }
      ]
    },
    {
      "cell_type": "markdown",
      "source": [
        "### Counter\n",
        "이 친구는 등장 횟수를 세줍니다!\n",
        "\n",
        "iterable 객체가 주어졌을 때, 해당 객체 내부의 원소가 몇 번씩 등장했는지를 알려준다."
      ],
      "metadata": {
        "id": "OCZYu4Em7jN8"
      }
    },
    {
      "cell_type": "code",
      "source": [
        "from collections import Counter\n",
        "\n",
        "counter = Counter(['red', 'blue', 'red', 'green', 'blue', 'blue'])\n",
        "\n",
        "print(counter['blue'])  # 저 리스트 중에 blue라는 단어는 몇개 들어있니?\n",
        "print(counter['green'])  # green이 들어간 횟수를 구하렴\n",
        "print(dict(counter))  # dict 자료형으로 변환해"
      ],
      "metadata": {
        "colab": {
          "base_uri": "https://localhost:8080/"
        },
        "id": "-oXQ3CO67vPX",
        "outputId": "6d7874c5-1faf-45da-f0d0-a998744e1a04"
      },
      "execution_count": 13,
      "outputs": [
        {
          "output_type": "stream",
          "name": "stdout",
          "text": [
            "3\n",
            "1\n",
            "{'red': 2, 'blue': 3, 'green': 1}\n"
          ]
        }
      ]
    },
    {
      "cell_type": "markdown",
      "source": [
        "## math\n",
        "이 라이브러리는 자주 사용되는 수학적인 기능을 포함하고 있는 라이브러리이다. factorial, square root, GCD등을 계산해주는 기능을 포함하고 있기에, 수학 계산을 요구하는 문제를 만났을 때 바로 써먹으면 된다."
      ],
      "metadata": {
        "id": "tO5O7VrP8MFH"
      }
    },
    {
      "cell_type": "markdown",
      "source": [
        "### factorial\n",
        "x! 반환"
      ],
      "metadata": {
        "id": "uiCE10Af8b8m"
      }
    },
    {
      "cell_type": "code",
      "source": [
        "import math\n",
        "\n",
        "print(math.factorial(5))  # 5 팩토리얼 출력"
      ],
      "metadata": {
        "colab": {
          "base_uri": "https://localhost:8080/"
        },
        "id": "ApFUGxuy8fnw",
        "outputId": "81629dad-9003-4946-bd21-dc8c7eaa0fd1"
      },
      "execution_count": 14,
      "outputs": [
        {
          "output_type": "stream",
          "name": "stdout",
          "text": [
            "120\n"
          ]
        }
      ]
    },
    {
      "cell_type": "markdown",
      "source": [
        "### sqrt\n",
        "return sqaure root of x"
      ],
      "metadata": {
        "id": "VbSC3kWA8kCR"
      }
    },
    {
      "cell_type": "code",
      "source": [
        "import math\n",
        "\n",
        "print(math.sqrt(7))"
      ],
      "metadata": {
        "colab": {
          "base_uri": "https://localhost:8080/"
        },
        "id": "Z0bajFE68n1P",
        "outputId": "0b60f063-280c-4d9d-f0ad-fd7046b91374"
      },
      "execution_count": 15,
      "outputs": [
        {
          "output_type": "stream",
          "name": "stdout",
          "text": [
            "2.6457513110645907\n"
          ]
        }
      ]
    },
    {
      "cell_type": "markdown",
      "source": [
        "### GCD\n",
        "return GCD a,b"
      ],
      "metadata": {
        "id": "We3TLYbj8seg"
      }
    },
    {
      "cell_type": "code",
      "source": [
        "import math\n",
        "\n",
        "print(math.gcd(21, 14))"
      ],
      "metadata": {
        "colab": {
          "base_uri": "https://localhost:8080/"
        },
        "id": "fm4toOjC8wN9",
        "outputId": "ec5213a1-1277-49bd-9c53-8eaa7502bbe1"
      },
      "execution_count": 16,
      "outputs": [
        {
          "output_type": "stream",
          "name": "stdout",
          "text": [
            "7\n"
          ]
        }
      ]
    },
    {
      "cell_type": "markdown",
      "source": [
        "### constant\n",
        "e, pi"
      ],
      "metadata": {
        "id": "1aSJhZ0y82Lf"
      }
    },
    {
      "cell_type": "code",
      "source": [
        "import math\n",
        "\n",
        "print(math.pi)  # 파이 출력\n",
        "print(math.e) # 자연상수 e 출력"
      ],
      "metadata": {
        "colab": {
          "base_uri": "https://localhost:8080/"
        },
        "id": "dp7PbtbT8-59",
        "outputId": "720f76a8-fca4-43df-f6b1-6bda6775dea6"
      },
      "execution_count": 17,
      "outputs": [
        {
          "output_type": "stream",
          "name": "stdout",
          "text": [
            "3.141592653589793\n",
            "2.718281828459045\n"
          ]
        }
      ]
    }
  ]
}